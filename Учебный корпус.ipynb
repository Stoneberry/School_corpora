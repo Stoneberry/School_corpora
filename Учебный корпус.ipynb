{
 "cells": [
  {
   "cell_type": "code",
   "execution_count": 5,
   "metadata": {},
   "outputs": [],
   "source": [
    "from bs4 import BeautifulSoup\n",
    "import bs4\n",
    "from natasha import NamesExtractor\n",
    "from collections import defaultdict\n",
    "import requests\n",
    "import re\n",
    "import pickle\n",
    "import time\n",
    "import json\n",
    "from nltk import flatten"
   ]
  },
  {
   "cell_type": "code",
   "execution_count": 6,
   "metadata": {},
   "outputs": [],
   "source": [
    "from collections import defaultdict"
   ]
  },
  {
   "cell_type": "code",
   "execution_count": 7,
   "metadata": {},
   "outputs": [],
   "source": [
    "extractor = NamesExtractor()"
   ]
  },
  {
   "cell_type": "markdown",
   "metadata": {},
   "source": [
    "### Собираем регулярки"
   ]
  },
  {
   "cell_type": "markdown",
   "metadata": {},
   "source": [
    "##### Имена\n",
    "\n",
    "Цветаева М <br>Л. Н. Толстой<br>И. А. Бунин<br>И.-В. Гёте<br>Э. Сетон-Томпсон<br>Андреев Л.<br>Куприн.<br>Паустовский<br>Сент-Экзюпери"
   ]
  },
  {
   "cell_type": "code",
   "execution_count": 19,
   "metadata": {},
   "outputs": [],
   "source": [
    "# Первое - имя\n",
    "# Второе - отчество\n",
    "# Третье - фамилия\n",
    "\n",
    "pat1 = '([А-Я][а-я]?\\.)(?:(?: |\\-)([А-Я][а-я]?\\.))? ([А-Я]\\w+(?:-\\w+)?)'\n",
    "pat2 = '[А-Я]\\w+ [А-Я]\\w+'\n",
    "#pat3 = '([А-Я]\\w+(?:-\\w+)?) ([А-Я]\\.)(?: ?([А-Я]\\.))?'\n",
    "\n",
    "\n",
    "name_pattern = re.compile('(?:' + pat1 + '|' + pat2 + ')')"
   ]
  },
  {
   "cell_type": "markdown",
   "metadata": {},
   "source": [
    "#### Жанр"
   ]
  },
  {
   "cell_type": "code",
   "execution_count": 4,
   "metadata": {},
   "outputs": [],
   "source": [
    "reg_wrt_type = ['Лирика', 'Сказки', 'Рассказы',\n",
    "                'Стихотворения', 'Стихи', 'Новеллы',\n",
    "                'Басни', 'Проза']\n",
    "\n",
    "\n",
    "for index, i in enumerate(reg_wrt_type):\n",
    "    ans = '(?:{}|{})'.format(i[0], i[0].lower()) + i[1:-1] + '(?:{}|[а-я])?'.format(i[-1])\n",
    "    reg_wrt_type[index] = ans\n",
    "\n",
    "\n",
    "reg_wrt_type = '|'.join(reg_wrt_type)\n",
    "reg_wrt_type = re.compile(reg_wrt_type)"
   ]
  },
  {
   "cell_type": "markdown",
   "metadata": {},
   "source": [
    "## Список из Википедии"
   ]
  },
  {
   "cell_type": "code",
   "execution_count": 5,
   "metadata": {},
   "outputs": [],
   "source": [
    "def get_soup(url):\n",
    "    \n",
    "    '''\n",
    "    Скачиваем страничку, делаем soup\n",
    "    '''\n",
    "    \n",
    "    req = requests.get(url)\n",
    "    if req.status_code == 200:\n",
    "        html = req.text\n",
    "        soup = BeautifulSoup(html, 'lxml')\n",
    "        return soup\n",
    "    return None"
   ]
  },
  {
   "cell_type": "code",
   "execution_count": 6,
   "metadata": {},
   "outputs": [],
   "source": [
    "\n",
    "def get_names(pattern, soup):\n",
    "    \n",
    "    '''\n",
    "    Собираем имена из содержания\n",
    "    '''\n",
    "    \n",
    "    names = []\n",
    "    for line in soup_wiki.findAll(\"span\", {\"class\": \"toctext\"}):\n",
    "\n",
    "        if line.text == 'Критика': break\n",
    "  \n",
    "        name = re.sub('&#160;', ' ', line.text)\n",
    "        name = pattern.findall(line.text)#[0]\n",
    "        if name != []: names.append(name[0])\n",
    "\n",
    "    return names\n"
   ]
  },
  {
   "cell_type": "code",
   "execution_count": null,
   "metadata": {},
   "outputs": [],
   "source": [
    "link_wiki = 'https://ru.wikisource.org/wiki/Викитека:Школьная_программа'\n",
    "soup_wiki = get_soup(link_wiki)\n",
    "wiki_names = get_names(name_pattern, soup_wiki)"
   ]
  },
  {
   "cell_type": "code",
   "execution_count": 50,
   "metadata": {},
   "outputs": [],
   "source": [
    "with open('wiki_names.pickle', 'wb') as f:\n",
    "    pickle.dump(wiki_names, f)"
   ]
  },
  {
   "cell_type": "markdown",
   "metadata": {},
   "source": [
    "Работает плохо, из-за вложенной структуры данных. Переделаем, сохраняя структуру"
   ]
  },
  {
   "cell_type": "markdown",
   "metadata": {},
   "source": [
    "# WIKI УЧЕБНИК 2"
   ]
  },
  {
   "cell_type": "code",
   "execution_count": null,
   "metadata": {},
   "outputs": [],
   "source": [
    "def clean_line(line):\n",
    "    \n",
    "    \"\"\"\n",
    "    Убираем лишние символы\n",
    "    \"\"\"\n",
    "    \n",
    "    line = re.sub('\\[править\\]', '', line)\n",
    "    line = re.sub('\\xa0', ' ', line)\n",
    "    return line"
   ]
  },
  {
   "cell_type": "markdown",
   "metadata": {},
   "source": [
    "Загружаем данные"
   ]
  },
  {
   "cell_type": "code",
   "execution_count": 20,
   "metadata": {},
   "outputs": [],
   "source": [
    "with open('wiki.html', 'r', encoding='utf-8') as f:\n",
    "    html = f.read()\n",
    "    soup = BeautifulSoup(html, 'lxml')"
   ]
  },
  {
   "cell_type": "code",
   "execution_count": 21,
   "metadata": {},
   "outputs": [],
   "source": [
    "body = soup.find(\"div\", {\"class\": \"mw-content-ltr\"})\n",
    "body = list(body)[0]"
   ]
  },
  {
   "cell_type": "code",
   "execution_count": null,
   "metadata": {},
   "outputs": [],
   "source": []
  },
  {
   "cell_type": "markdown",
   "metadata": {},
   "source": [
    "Парсим все данные со страницы, сохряняя первоначальную вложенность данных: \n",
    "\n",
    "Русская литература --> \tФольклор --> Устное народное творчество \n",
    "и тд"
   ]
  },
  {
   "cell_type": "markdown",
   "metadata": {},
   "source": [
    "\\+ сохраняем ссылки на тексты, чтобы потом их скачать"
   ]
  },
  {
   "cell_type": "code",
   "execution_count": 22,
   "metadata": {},
   "outputs": [],
   "source": [
    "#  h2 = Русская литература\n",
    "#  h3 = Фольклор\n",
    "#  h4 = Устное народное творчество\n",
    "#  ul = «Помню, я ещё младшенька была…»\n",
    "\n",
    "\n",
    "base = 'ru.wikisource.org'\n",
    "a = list(body.children)\n",
    "h2, h3, h4 = False, False, False\n",
    "d = {}\n",
    "\n",
    "\n",
    "for i in body.children:\n",
    "\n",
    "    if i.name == 'h2':\n",
    "        h2 = clean_line(i.text)\n",
    "        d[h2] = {}\n",
    "    \n",
    "    if i.name == 'h3':\n",
    "        h3 = clean_line(i.text)\n",
    "        if h2: d[h2][h3] = {}\n",
    "    \n",
    "    if i.name == 'h4':\n",
    "        h4 = clean_line(i.text)\n",
    "        if h3: d[h2][h3][h4] = []\n",
    "        else: d[h2][h4] = []\n",
    "            \n",
    "    if i.name == 'ul':\n",
    "        \n",
    "        if h4 in d[h2]: place = d[h2][h4]\n",
    "        if h3 in d[h2]:\n",
    "            if h4 in d[h2][h3]: place = d[h2][h3][h4]\n",
    "            else:\n",
    "                if len(d[h2][h3]) == 0: d[h2][h3] = []\n",
    "                place = d[h2][h3]\n",
    "        else: \n",
    "            if len(d[h2]) == 0: d[h2] = []\n",
    "            place = d[h2]\n",
    "\n",
    "        for name in i.find_all('li'):\n",
    "            \n",
    "            if name.find('a') != None and 'title' in name.a.attrs:\n",
    "                if '(страница не существует)' not in name.a['title']:\n",
    "                    link = base + name.a['href']\n",
    "            else: link = ''\n",
    "            \n",
    "            place.append((name.text, link))\n",
    "    "
   ]
  },
  {
   "cell_type": "code",
   "execution_count": 23,
   "metadata": {},
   "outputs": [
    {
     "data": {
      "text/plain": [
       "dict_keys(['И. А. Крылов', 'Я. П. Полонский', 'В. А. Жуковский', 'А. С. Грибоедов', 'А. В. Кольцов', 'Е. А. Боратынский', 'К. Ф. Рылеев', 'К. Н. Батюшков', 'А. С. Пушкин', 'М. Ю. Лермонтов', 'Поэты пушкинской поры', 'Н. В. Гоголь', 'А. Н. Островский', 'И. С. Тургенев', 'Ф. И. Тютчев', 'А. А. Фет', 'А. Н. Майков', 'Л. Н. Толстой', 'Н. А. Некрасов', 'Н. М. Языков', 'Н. С. Лесков', 'Н. Г. Чернышевский', 'И. А. Гончаров', 'И. С. Никитин', 'А. Н. Толстой', 'А. К. Толстой', 'М. Е. Салтыков-Щедрин', 'Ф. М. Достоевский', 'В. Г. Короленко', 'А. П. Чехов', 'В. М. Гаршин'])"
      ]
     },
     "execution_count": 23,
     "metadata": {},
     "output_type": "execute_result"
    }
   ],
   "source": [
    "d['Русская литература']['Литература XIX века'].keys()#['Поэты пушкинской поры']"
   ]
  },
  {
   "cell_type": "code",
   "execution_count": 217,
   "metadata": {},
   "outputs": [],
   "source": [
    "with open('/Users/Stoneberry/Desktop/школьный архив/name_lists/wiki_names.pickle', 'wb') as f:\n",
    "    pickle.dump(d, f)"
   ]
  },
  {
   "cell_type": "markdown",
   "metadata": {},
   "source": [
    "Создаем словарь только с \"автором\" и произведениями (= последние два уровня иерархии)"
   ]
  },
  {
   "cell_type": "code",
   "execution_count": 24,
   "metadata": {},
   "outputs": [],
   "source": [
    "def name_splitter_wiki(d):\n",
    "\n",
    "    for i in d:\n",
    "        \n",
    "        if isinstance(d[i], list):\n",
    "\n",
    "            name_split = name_pattern.findall(i)\n",
    "            s = sum(map(len, flatten(name_split)))\n",
    "        \n",
    "            if name_split != [] and s != 0: \n",
    "                line = name_split[0]\n",
    "            else: line = i\n",
    "            \n",
    "            yield line, d[i]\n",
    "          \n",
    "        elif isinstance(d[i], dict): \n",
    "            yield from name_splitter_wiki(d[i])\n",
    "        "
   ]
  },
  {
   "cell_type": "code",
   "execution_count": 25,
   "metadata": {},
   "outputs": [],
   "source": [
    "names_wiki = {i[0]: i[1] for i in name_splitter_wiki(d)}"
   ]
  },
  {
   "cell_type": "code",
   "execution_count": 26,
   "metadata": {},
   "outputs": [
    {
     "data": {
      "text/plain": [
       "[('Помню, я ещё младшенька была…',\n",
       "  'ru.wikisource.org/wiki/%D0%9F%D0%BE%D0%BC%D0%BD%D1%8E,_%D1%8F_%D0%B5%D1%89%D1%91_%D0%BC%D0%BB%D0%B0%D0%B4%D1%88%D0%B5%D0%BD%D1%8C%D0%BA%D0%B0_%D0%B1%D1%8B%D0%BB%D0%B0'),\n",
       " ('Ай вы, ветры, ветры буйные…',\n",
       "  'ru.wikisource.org/wiki/%D0%90%D0%B9_%D0%B2%D1%8B,_%D0%B2%D0%B5%D1%82%D1%80%D1%8B,_%D0%B2%D0%B5%D1%82%D1%80%D1%8B_%D0%B1%D1%83%D0%B9%D0%BD%D1%8B%D0%B5')]"
      ]
     },
     "execution_count": 26,
     "metadata": {},
     "output_type": "execute_result"
    }
   ],
   "source": [
    "names_wiki['Устное народное творчество']"
   ]
  },
  {
   "cell_type": "code",
   "execution_count": 27,
   "metadata": {},
   "outputs": [
    {
     "data": {
      "text/plain": [
       "[('Ода на день восшествия на престол Елисаветы Петровны',\n",
       "  'ru.wikisource.org/wiki/%D0%9E%D0%B4%D0%B0_%D0%BD%D0%B0_%D0%B4%D0%B5%D0%BD%D1%8C_%D0%B2%D0%BE%D1%81%D1%88%D0%B5%D1%81%D1%82%D0%B2%D0%B8%D1%8F_%D0%BD%D0%B0_%D0%BF%D1%80%D0%B5%D1%81%D1%82%D0%BE%D0%BB_%D0%95%D0%BB%D0%B8%D1%81%D0%B0%D0%B2%D0%B5%D1%82%D1%8B_%D0%9F%D0%B5%D1%82%D1%80%D0%BE%D0%B2%D0%BD%D1%8B'),\n",
       " ('Вечернее размышление о Божием величестве при случае великого северного сияния',\n",
       "  'ru.wikisource.org/wiki/%D0%92%D0%B5%D1%87%D0%B5%D1%80%D0%BD%D0%B5%D0%B5_%D1%80%D0%B0%D0%B7%D0%BC%D1%8B%D1%88%D0%BB%D0%B5%D0%BD%D0%B8%D0%B5_%D0%BE_%D0%91%D0%BE%D0%B6%D0%B8%D0%B5%D0%BC_%D0%B2%D0%B5%D0%BB%D0%B8%D1%87%D0%B5%D1%81%D1%82%D0%B2%D0%B5_%D0%BF%D1%80%D0%B8_%D1%81%D0%BB%D1%83%D1%87%D0%B0%D0%B5_%D0%B2%D0%B5%D0%BB%D0%B8%D0%BA%D0%BE%D0%B3%D0%BE_%D1%81%D0%B5%D0%B2%D0%B5%D1%80%D0%BD%D0%BE%D0%B3%D0%BE_%D1%81%D0%B8%D1%8F%D0%BD%D0%B8%D1%8F'),\n",
       " ('Разговор с Анакреонтом',\n",
       "  'ru.wikisource.org/wiki/%D0%A0%D0%B0%D0%B7%D0%B3%D0%BE%D0%B2%D0%BE%D1%80_%D1%81_%D0%90%D0%BD%D0%B0%D0%BA%D1%80%D0%B5%D0%BE%D0%BD%D1%82%D0%BE%D0%BC'),\n",
       " ('Случились вместе два астронома в пиру',\n",
       "  'ru.wikisource.org/wiki/%D0%A1%D0%BB%D1%83%D1%87%D0%B8%D0%BB%D0%B8%D1%81%D1%8C_%D0%B2%D0%BC%D0%B5%D1%81%D1%82%D0%B5_%D0%B4%D0%B2%D0%B0_%D0%B0%D1%81%D1%82%D1%80%D0%BE%D0%BD%D0%BE%D0%BC%D0%B0_%D0%B2_%D0%BF%D0%B8%D1%80%D1%83'),\n",
       " ('К статуе Петра Великого',\n",
       "  'ru.wikisource.org/wiki/%D0%9A_%D1%81%D1%82%D0%B0%D1%82%D1%83%D0%B5_%D0%9F%D0%B5%D1%82%D1%80%D0%B0_%D0%92%D0%B5%D0%BB%D0%B8%D0%BA%D0%BE%D0%B3%D0%BE')]"
      ]
     },
     "execution_count": 27,
     "metadata": {},
     "output_type": "execute_result"
    }
   ],
   "source": [
    "names_wiki[('М.', 'В.', 'Ломоносов')]"
   ]
  },
  {
   "cell_type": "code",
   "execution_count": null,
   "metadata": {},
   "outputs": [],
   "source": []
  },
  {
   "cell_type": "markdown",
   "metadata": {},
   "source": [
    "## Список из пдф файла - http://lickey3.narod.ru/spisok_reed.pdf"
   ]
  },
  {
   "cell_type": "markdown",
   "metadata": {},
   "source": [
    "Файл содержит деление на классы, что полезно, сохраним эту структуру"
   ]
  },
  {
   "cell_type": "code",
   "execution_count": 229,
   "metadata": {},
   "outputs": [],
   "source": [
    "def natasha_uni(line):\n",
    "    \n",
    "    '''\n",
    "    Достаем имена с помощью Наташи\n",
    "    Приводим к общему виду - А. С. Пушкин\n",
    "    '''\n",
    "    \n",
    "    answer = []\n",
    "   \n",
    "    for match in extractor(line):\n",
    "        if match.fact.last != None:\n",
    "            \n",
    "            ans = ''\n",
    "            for index, item in enumerate(match.fact):\n",
    "                if item != None:\n",
    "                    if len(item) == 1: item += '.'\n",
    "                    else: item = item.capitalize()  \n",
    "                    ans += item + ' '\n",
    "\n",
    "            answer.append(ans[:-1])\n",
    "\n",
    "    return answer\n",
    "\n",
    "\n",
    "def get_names_books_pdf(name_pattern, reg_wrt_type, line):\n",
    "    \n",
    "    '''\n",
    "    Собираем имена и книги из каждой строки\n",
    "    '''\n",
    "    \n",
    "    names = name_splitter_pdf(line)\n",
    "    books = ''\n",
    "\n",
    "    if names == []: names = natasha_uni(line)\n",
    "            \n",
    "    if len(names) == 1:\n",
    "        \n",
    "        books = re.findall('\"(.+?)\"', line)\n",
    "                    \n",
    "        if books == []:  # если ничего в кавычках нет, возможно, там написано через точку\n",
    "            line = re.sub(names[0], '', line)\n",
    "            books = line.split('.')\n",
    "        if books == []: books = re.findall(reg_wrt_type, line)  # если и этого нет, ищем жанры\n",
    "    \n",
    "    return names, set(books)\n"
   ]
  },
  {
   "cell_type": "markdown",
   "metadata": {},
   "source": [
    "Открываем файл"
   ]
  },
  {
   "cell_type": "code",
   "execution_count": 230,
   "metadata": {},
   "outputs": [],
   "source": [
    "pdf_file = '/Users/Stoneberry/Desktop/школьный архив/spisok_reed.txt'\n",
    "\n",
    "with open(pdf_file, 'r', encoding='utf-8') as f:\n",
    "    pdf_file_lines = f.read()\n",
    "    pdf_file_lines = re.sub('\\.', '. ', pdf_file_lines)\n",
    "    pdf_file_lines = re.sub('  ', ' ', pdf_file_lines)\n",
    "    pdf_file_lines = re.sub('\\x0c', '',  pdf_file_lines) "
   ]
  },
  {
   "cell_type": "code",
   "execution_count": null,
   "metadata": {},
   "outputs": [],
   "source": []
  },
  {
   "cell_type": "code",
   "execution_count": null,
   "metadata": {},
   "outputs": [],
   "source": [
    "pdf_by_year = []  # [{'K': [1, 2, 3]}, {'L': [1, 2, 3]}]\n",
    "pdf_by_names = defaultdict(set)  #{'K': {1, 2, 3}\n",
    "pdf_summer_reading = {}  # 11 класс \n",
    "log = set()\n",
    "\n",
    "\n",
    "for ind, item in enumerate(pdf_file_lines.split('\\n\\n')):\n",
    "    \n",
    "    lines = item.split('\\n')\n",
    "    if ind != 10: pdf_by_year.append({})\n",
    "    \n",
    "    for index, line in enumerate(lines):\n",
    "        \n",
    "        if index != 0:\n",
    "            \n",
    "            names, books = get_names_books_pdf(name_pattern, reg_wrt_type, line)\n",
    "\n",
    "            if len(names) == 1:\n",
    "                \n",
    "                if books == []: log.add(line)\n",
    "                elif ind == 10: pdf_summer_reading[names[0]] = books\n",
    "                else:\n",
    "                    pdf_by_year[-1][names[0]] = books\n",
    "                    pdf_by_names[names[0]] |= books\n",
    "               \n",
    "            else: log.add(line)\n",
    "  "
   ]
  },
  {
   "cell_type": "code",
   "execution_count": 37,
   "metadata": {},
   "outputs": [
    {
     "data": {
      "text/plain": [
       "{'Л. Н. Толстой': {' Рассказы для детей'},\n",
       " 'К. Д. Ушинский': {'Четыре желания'},\n",
       " 'А. С. Пушкин': {'У лукоморья дуб зеленый'},\n",
       " 'А. Л. Барто': {' Стихи для маленьких'},\n",
       " 'К. И. Чуковский': {'Краденное солнце',\n",
       "  'Мойдодыр',\n",
       "  'Муха- Цокотуха',\n",
       "  'Тараканище',\n",
       "  'Телефон'},\n",
       " 'В. Осеева': {' Рассказы'},\n",
       " 'Б. С. Житков': {'Помощь идет'},\n",
       " 'С. В. Михалков': {'А что у вас?', 'Дядя Степа'},\n",
       " 'С. Я. Маршак': {'Вот такой рассеянный', 'Почта'},\n",
       " 'В. В. Маяковский': {'Кем быть?',\n",
       "  'Конь-огонь',\n",
       "  'Что такое хорошо и что такое плохо'},\n",
       " 'Н. Н. Носов': {' Рассказы'},\n",
       " 'В. В. Бианки': {'Кто чем поет?', 'Чей нос лучше?'},\n",
       " 'Ш. Пьеро': {'Кот в сапогах', 'Красная шапочка'}}"
      ]
     },
     "execution_count": 37,
     "metadata": {},
     "output_type": "execute_result"
    }
   ],
   "source": [
    "pdf_by_year[0]"
   ]
  },
  {
   "cell_type": "code",
   "execution_count": 115,
   "metadata": {},
   "outputs": [
    {
     "data": {
      "text/plain": [
       "{' Рассказы для детей',\n",
       " 'Анна Каренина',\n",
       " 'Война и мир',\n",
       " 'Воскресение',\n",
       " 'Детство',\n",
       " 'Золотой ключик или приключения Буратино',\n",
       " 'Кавказский пленник',\n",
       " 'Казаки',\n",
       " 'Люцерн',\n",
       " 'Набег',\n",
       " 'Отрочество',\n",
       " 'Севастопольские рассказы',\n",
       " 'Утро помещика',\n",
       " 'Хаджи-Мурат'}"
      ]
     },
     "execution_count": 115,
     "metadata": {},
     "output_type": "execute_result"
    }
   ],
   "source": [
    "pdf_by_names['Л. Н. Толстой']"
   ]
  },
  {
   "cell_type": "code",
   "execution_count": 116,
   "metadata": {},
   "outputs": [
    {
     "data": {
      "text/plain": [
       "{'',\n",
       " ' Гамбринус',\n",
       " ' Гранатовый браслет',\n",
       " ' Молох',\n",
       " ' Олеся',\n",
       " ' Поединок',\n",
       " ' Суламифь'}"
      ]
     },
     "execution_count": 116,
     "metadata": {},
     "output_type": "execute_result"
    }
   ],
   "source": [
    "pdf_summer_reading['А. И. Куприн']"
   ]
  },
  {
   "cell_type": "markdown",
   "metadata": {},
   "source": [
    "В log попадают все случаи, когда в в строке несколько фамилий, или наташа не смогла там найти соответсвия. Про эту категорию подумаю позже"
   ]
  },
  {
   "cell_type": "code",
   "execution_count": 25,
   "metadata": {},
   "outputs": [
    {
     "data": {
      "text/plain": [
       "['Братья Гримм Сказки',\n",
       " 'Авторская песня: Высоцкий В. , Галич А. , Окуджава Б. , Цой В. , Тальков И. и др. ',\n",
       " 'А. С. Пушкин. \"Узник\", \"И. И. Пущину\", \"Зимнее утро\", \"Метель\", \"Туча\", Станционный смотритель\", \"Ворон к ворону летит\" Шотландская народная баллада',\n",
       " 'Знакомство с серией книг \"Жизнь замечательных людей\"',\n",
       " 'Хаггард. \"Дочь Монтесумы\", \"Копи царя Соломона\", \"Прекрасная Маргарет\"',\n",
       " 'Гете \"Фауст\"',\n",
       " 'Сказки разных народов',\n",
       " 'Дефо \"Робинзон Крузо\". ',\n",
       " 'Аверченко \"Смерть африканского охотника\"',\n",
       " 'Свифт \"Путешествия Гулливера\" (можно в детском издании)']"
      ]
     },
     "execution_count": 25,
     "metadata": {},
     "output_type": "execute_result"
    }
   ],
   "source": [
    "list(log)[:10]"
   ]
  },
  {
   "cell_type": "code",
   "execution_count": 48,
   "metadata": {},
   "outputs": [],
   "source": [
    "with open('pdf_by_names.pickle', 'wb') as f:\n",
    "    pickle.dump(pdf_by_names, f)"
   ]
  },
  {
   "cell_type": "code",
   "execution_count": 49,
   "metadata": {},
   "outputs": [],
   "source": [
    "with open('pdf_by_year.pickle', 'wb') as f:\n",
    "    pickle.dump(pdf_by_year, f)"
   ]
  },
  {
   "cell_type": "markdown",
   "metadata": {},
   "source": [
    "Опять сделаем словарь \"автор\" - произведения"
   ]
  },
  {
   "cell_type": "code",
   "execution_count": 7,
   "metadata": {},
   "outputs": [],
   "source": [
    "with open('pdf_by_names.pickle', 'rb') as f:\n",
    "    pdf_names = pickle.load(f)   "
   ]
  },
  {
   "cell_type": "code",
   "execution_count": 9,
   "metadata": {},
   "outputs": [],
   "source": [
    "def name_splitter_pdf(pdf_names):\n",
    "    \n",
    "    d = {}\n",
    "    \n",
    "    for i in pdf_names:\n",
    "    \n",
    "        rev_name_split = re.findall(pat3, i)\n",
    "        s = sum(map(len, flatten(rev_name_split)))\n",
    "    \n",
    "        if rev_name_split != [] and s != 0: \n",
    "            line = rev_name_split[0]\n",
    "            line = tuple(list(line[1:]) + [line[0]])\n",
    "        \n",
    "        else:\n",
    "            name_split = name_pattern.findall(i)\n",
    "            s = sum(map(len, flatten(name_split)))\n",
    "            \n",
    "            if name_split != [] and s != 0:\n",
    "                line = name_split[0]\n",
    "            else: line = i\n",
    "      \n",
    "        if line in d:\n",
    "            d[line] |= pdf_names[i]\n",
    "        else:\n",
    "            d[line] = pdf_names[i]\n",
    "        \n",
    "    return d\n"
   ]
  },
  {
   "cell_type": "code",
   "execution_count": 13,
   "metadata": {},
   "outputs": [],
   "source": [
    "pdf_names1 = name_splitter_pdf(pdf_names)"
   ]
  },
  {
   "cell_type": "code",
   "execution_count": 14,
   "metadata": {},
   "outputs": [
    {
     "data": {
      "text/plain": [
       "{' Рассказы для детей',\n",
       " 'Анна Каренина',\n",
       " 'Война и мир',\n",
       " 'Воскресение',\n",
       " 'Детство',\n",
       " 'Золотой ключик или приключения Буратино',\n",
       " 'Кавказский пленник',\n",
       " 'Казаки',\n",
       " 'Люцерн',\n",
       " 'Набег',\n",
       " 'Отрочество',\n",
       " 'Севастопольские рассказы',\n",
       " 'Утро помещика',\n",
       " 'Хаджи-Мурат'}"
      ]
     },
     "execution_count": 14,
     "metadata": {},
     "output_type": "execute_result"
    }
   ],
   "source": [
    "pdf_names1[('Л.', 'Н.', 'Толстой')]"
   ]
  },
  {
   "cell_type": "code",
   "execution_count": null,
   "metadata": {},
   "outputs": [],
   "source": []
  },
  {
   "cell_type": "code",
   "execution_count": null,
   "metadata": {},
   "outputs": [],
   "source": []
  },
  {
   "cell_type": "code",
   "execution_count": null,
   "metadata": {},
   "outputs": [],
   "source": []
  },
  {
   "cell_type": "markdown",
   "metadata": {},
   "source": [
    "# Литрес"
   ]
  },
  {
   "cell_type": "markdown",
   "metadata": {},
   "source": [
    "Тут произведения разделены по классам, но недостаточно четко, я решила, не учитывать это"
   ]
  },
  {
   "cell_type": "code",
   "execution_count": 15,
   "metadata": {},
   "outputs": [],
   "source": [
    "with open('litrest.html', 'r', encoding='utf-8') as f:\n",
    "    html = f.read()\n",
    "    soup = BeautifulSoup(html, 'lxml')"
   ]
  },
  {
   "cell_type": "code",
   "execution_count": 16,
   "metadata": {},
   "outputs": [],
   "source": [
    "links = {'5-6': 'https://www.litres.ru/kollekcii-knig/spisok-shkolnoy-literatury-5-6-klass/',\n",
    "         '7-8': 'https://www.litres.ru/kollekcii-knig/spisok-shkolnoy-literatury-7-8-klass/',\n",
    "         '9': 'https://www.litres.ru/kollekcii-knig/spisok-shkolnoy-literatury-9-klass/',\n",
    "         '10-11': 'https://www.litres.ru/kollekcii-knig/spisok-shkolnoy-literatury-10-11-klass/'}"
   ]
  },
  {
   "cell_type": "code",
   "execution_count": 17,
   "metadata": {
    "scrolled": true
   },
   "outputs": [],
   "source": [
    "names_litres = {}\n",
    "\n",
    "\n",
    "for link in links:\n",
    "    \n",
    "    for i in range(1, 6):\n",
    "        \n",
    "        l = links[link] + 'page-' + str(i)\n",
    "    \n",
    "        try:\n",
    "            soup = get_soup(l)\n",
    "            \n",
    "            a = [line.text for line in soup.findAll(\"div\", {\"class\": \"art-item__author\"})]\n",
    "            b = [line.text for line in soup.findAll(\"div\", {\"class\": \"art-item__name\"})]\n",
    "    \n",
    "            for index, item in enumerate(a):\n",
    "                if item not in names_litres:\n",
    "                    names_litres[item] = set()\n",
    "                names_litres[item].add(b[index])\n",
    "        \n",
    "        except: continue\n"
   ]
  },
  {
   "cell_type": "code",
   "execution_count": 18,
   "metadata": {},
   "outputs": [
    {
     "data": {
      "text/plain": [
       "{'Борис Годунов',\n",
       " 'Дубровский',\n",
       " 'Евгений Онегин',\n",
       " 'Капитанская дочка',\n",
       " 'Медный всадник',\n",
       " 'Пиковая дама',\n",
       " 'Полное собрание стихотворений',\n",
       " 'Сказка о мертвой царевне и о семи богатырях',\n",
       " 'Станционный смотритель'}"
      ]
     },
     "execution_count": 18,
     "metadata": {},
     "output_type": "execute_result"
    }
   ],
   "source": [
    "names_litres['Александр Пушкин']"
   ]
  },
  {
   "cell_type": "code",
   "execution_count": null,
   "metadata": {},
   "outputs": [],
   "source": []
  },
  {
   "cell_type": "markdown",
   "metadata": {},
   "source": [
    "# Собираем все имена вместе"
   ]
  },
  {
   "cell_type": "code",
   "execution_count": 28,
   "metadata": {},
   "outputs": [],
   "source": [
    "import pandas as pd"
   ]
  },
  {
   "cell_type": "code",
   "execution_count": 53,
   "metadata": {},
   "outputs": [
    {
     "data": {
      "text/plain": [
       "(167, 144, 57)"
      ]
     },
     "execution_count": 53,
     "metadata": {},
     "output_type": "execute_result"
    }
   ],
   "source": [
    "len(names_wiki), len(pdf_names1), len(names_litres)"
   ]
  },
  {
   "cell_type": "code",
   "execution_count": 112,
   "metadata": {},
   "outputs": [],
   "source": [
    "def add_name(name, d):\n",
    "    \n",
    "    \"\"\"\n",
    "    Добавляем имя в таблицу\n",
    "    \"\"\"\n",
    "    \n",
    "    a = ['Имя', 'Отчество', 'Фамилия']\n",
    "    \n",
    "    if isinstance(name, tuple):\n",
    "        for index, item in enumerate(name):\n",
    "            d[a[index]].append(item)\n",
    "       \n",
    "    else:\n",
    "        s = name.split(' ')\n",
    "        \n",
    "        if len(s) == 2:\n",
    "            d['Имя'].append(s[0])\n",
    "            d['Фамилия'].append(s[1])\n",
    "            d['Отчество'].append('')\n",
    "        \n",
    "        else:\n",
    "            d['Имя'].append('')\n",
    "            d['Отчество'].append('')\n",
    "            d['Фамилия'].append(name)\n",
    "    \n",
    "\n",
    "def add_to_table(book, d, link, w, p, l):\n",
    "    \n",
    "    \"\"\"\n",
    "    Добавляем информацию о тексте в таблицу\n",
    "    \"\"\"\n",
    "\n",
    "    d['Название'].append(book)\n",
    "    d['Ссылка'].append(link)\n",
    "    d['Wiki'].append(w)\n",
    "    d['PDF'].append(p)\n",
    "    d['Litres'].append(l)\n"
   ]
  },
  {
   "cell_type": "code",
   "execution_count": 113,
   "metadata": {},
   "outputs": [],
   "source": [
    "sources = [names_wiki, pdf_names1, names_litres]\n",
    "s_index = {0:'Wiki', 1:'PDF', 2:'Litres'}"
   ]
  },
  {
   "cell_type": "markdown",
   "metadata": {},
   "source": [
    "## Формируем сводную таблицу"
   ]
  },
  {
   "cell_type": "code",
   "execution_count": 114,
   "metadata": {},
   "outputs": [],
   "source": [
    "d = {'Имя':[], 'Отчество':[], 'Фамилия':[], 'Название':[],\n",
    "     'Ссылка':[], 'Wiki':[], 'PDF':[], 'Litres':[]}\n",
    "\n",
    "hash_index = {}  # hash : номер строки в таблице \n",
    "cur_index = 0\n",
    "\n",
    "\n",
    "for ind, source in enumerate(sources):\n",
    "    \n",
    "    for n in source:\n",
    "    \n",
    "        if isinstance(n, tuple):\n",
    "            name = n[-1]\n",
    "        else: name = n\n",
    "    \n",
    "        for b in source[n]:\n",
    "            \n",
    "            if ind == 0:\n",
    "                link = b[1]\n",
    "                book = b[0]\n",
    "            else: book = b\n",
    "      \n",
    "            h = hash(book + name)\n",
    "        \n",
    "            if h not in hash_index:\n",
    "                hash_index[h] = cur_index\n",
    "                add_name(n, d)\n",
    "                add_to_table(book, d, link, 0, 0, 0)\n",
    "                index = cur_index\n",
    "                cur_index += 1\n",
    "            else:\n",
    "                index = hash_index[h]\n",
    "        \n",
    "            d[s_index[ind]][index] = 1\n",
    "        \n",
    "        "
   ]
  },
  {
   "cell_type": "code",
   "execution_count": 172,
   "metadata": {},
   "outputs": [],
   "source": [
    "data = pd.DataFrame(d)"
   ]
  },
  {
   "cell_type": "code",
   "execution_count": 173,
   "metadata": {},
   "outputs": [
    {
     "data": {
      "text/html": [
       "<div>\n",
       "<style scoped>\n",
       "    .dataframe tbody tr th:only-of-type {\n",
       "        vertical-align: middle;\n",
       "    }\n",
       "\n",
       "    .dataframe tbody tr th {\n",
       "        vertical-align: top;\n",
       "    }\n",
       "\n",
       "    .dataframe thead th {\n",
       "        text-align: right;\n",
       "    }\n",
       "</style>\n",
       "<table border=\"1\" class=\"dataframe\">\n",
       "  <thead>\n",
       "    <tr style=\"text-align: right;\">\n",
       "      <th></th>\n",
       "      <th>Litres</th>\n",
       "      <th>PDF</th>\n",
       "      <th>Wiki</th>\n",
       "      <th>Имя</th>\n",
       "      <th>Название</th>\n",
       "      <th>Отчество</th>\n",
       "      <th>Ссылка</th>\n",
       "      <th>Фамилия</th>\n",
       "    </tr>\n",
       "  </thead>\n",
       "  <tbody>\n",
       "    <tr>\n",
       "      <th>0</th>\n",
       "      <td>0</td>\n",
       "      <td>0</td>\n",
       "      <td>1</td>\n",
       "      <td></td>\n",
       "      <td>Помню, я ещё младшенька была…</td>\n",
       "      <td></td>\n",
       "      <td>ru.wikisource.org/wiki/%D0%9F%D0%BE%D0%BC%D0%B...</td>\n",
       "      <td>Устное народное творчество</td>\n",
       "    </tr>\n",
       "    <tr>\n",
       "      <th>1</th>\n",
       "      <td>0</td>\n",
       "      <td>0</td>\n",
       "      <td>1</td>\n",
       "      <td></td>\n",
       "      <td>Ай вы, ветры, ветры буйные…</td>\n",
       "      <td></td>\n",
       "      <td>ru.wikisource.org/wiki/%D0%90%D0%B9_%D0%B2%D1%...</td>\n",
       "      <td>Устное народное творчество</td>\n",
       "    </tr>\n",
       "    <tr>\n",
       "      <th>2</th>\n",
       "      <td>0</td>\n",
       "      <td>0</td>\n",
       "      <td>1</td>\n",
       "      <td>Исторические</td>\n",
       "      <td>Ермак готовится к походу на Сибирь</td>\n",
       "      <td></td>\n",
       "      <td>ru.wikisource.org/wiki/%D0%95%D1%80%D0%BC%D0%B...</td>\n",
       "      <td>песни</td>\n",
       "    </tr>\n",
       "    <tr>\n",
       "      <th>3</th>\n",
       "      <td>0</td>\n",
       "      <td>0</td>\n",
       "      <td>1</td>\n",
       "      <td>Исторические</td>\n",
       "      <td>Пугачёв в темнице</td>\n",
       "      <td></td>\n",
       "      <td>ru.wikisource.org/wiki/%D0%9F%D1%83%D0%B3%D0%B...</td>\n",
       "      <td>песни</td>\n",
       "    </tr>\n",
       "    <tr>\n",
       "      <th>4</th>\n",
       "      <td>0</td>\n",
       "      <td>0</td>\n",
       "      <td>1</td>\n",
       "      <td></td>\n",
       "      <td>Два Ивана —  солдатских сына</td>\n",
       "      <td></td>\n",
       "      <td>ru.wikisource.org/wiki/%D0%9D%D0%B0%D1%80%D0%B...</td>\n",
       "      <td>Русские народные сказки</td>\n",
       "    </tr>\n",
       "  </tbody>\n",
       "</table>\n",
       "</div>"
      ],
      "text/plain": [
       "   Litres  PDF  Wiki           Имя                            Название  \\\n",
       "0       0    0     1                     Помню, я ещё младшенька была…   \n",
       "1       0    0     1                       Ай вы, ветры, ветры буйные…   \n",
       "2       0    0     1  Исторические  Ермак готовится к походу на Сибирь   \n",
       "3       0    0     1  Исторические                   Пугачёв в темнице   \n",
       "4       0    0     1                      Два Ивана —  солдатских сына   \n",
       "\n",
       "  Отчество                                             Ссылка  \\\n",
       "0           ru.wikisource.org/wiki/%D0%9F%D0%BE%D0%BC%D0%B...   \n",
       "1           ru.wikisource.org/wiki/%D0%90%D0%B9_%D0%B2%D1%...   \n",
       "2           ru.wikisource.org/wiki/%D0%95%D1%80%D0%BC%D0%B...   \n",
       "3           ru.wikisource.org/wiki/%D0%9F%D1%83%D0%B3%D0%B...   \n",
       "4           ru.wikisource.org/wiki/%D0%9D%D0%B0%D1%80%D0%B...   \n",
       "\n",
       "                      Фамилия  \n",
       "0  Устное народное творчество  \n",
       "1  Устное народное творчество  \n",
       "2                       песни  \n",
       "3                       песни  \n",
       "4     Русские народные сказки  "
      ]
     },
     "execution_count": 173,
     "metadata": {},
     "output_type": "execute_result"
    }
   ],
   "source": [
    "data.head()"
   ]
  },
  {
   "cell_type": "code",
   "execution_count": 174,
   "metadata": {},
   "outputs": [
    {
     "data": {
      "text/html": [
       "<div>\n",
       "<style scoped>\n",
       "    .dataframe tbody tr th:only-of-type {\n",
       "        vertical-align: middle;\n",
       "    }\n",
       "\n",
       "    .dataframe tbody tr th {\n",
       "        vertical-align: top;\n",
       "    }\n",
       "\n",
       "    .dataframe thead th {\n",
       "        text-align: right;\n",
       "    }\n",
       "</style>\n",
       "<table border=\"1\" class=\"dataframe\">\n",
       "  <thead>\n",
       "    <tr style=\"text-align: right;\">\n",
       "      <th></th>\n",
       "      <th>Litres</th>\n",
       "      <th>PDF</th>\n",
       "      <th>Wiki</th>\n",
       "      <th>Имя</th>\n",
       "      <th>Название</th>\n",
       "      <th>Отчество</th>\n",
       "      <th>Ссылка</th>\n",
       "      <th>Фамилия</th>\n",
       "    </tr>\n",
       "  </thead>\n",
       "  <tbody>\n",
       "    <tr>\n",
       "      <th>64</th>\n",
       "      <td>0</td>\n",
       "      <td>0</td>\n",
       "      <td>1</td>\n",
       "      <td>А.</td>\n",
       "      <td>Повести Белкина\\nМетель\\nСтанционный смотрител...</td>\n",
       "      <td>С.</td>\n",
       "      <td>ru.wikisource.org/wiki/%D0%9F%D0%BE%D0%B2%D0%B...</td>\n",
       "      <td>Пушкин</td>\n",
       "    </tr>\n",
       "    <tr>\n",
       "      <th>65</th>\n",
       "      <td>0</td>\n",
       "      <td>0</td>\n",
       "      <td>1</td>\n",
       "      <td>А.</td>\n",
       "      <td>Метель</td>\n",
       "      <td>С.</td>\n",
       "      <td>ru.wikisource.org/wiki/%D0%9C%D0%B5%D1%82%D0%B...</td>\n",
       "      <td>Пушкин</td>\n",
       "    </tr>\n",
       "    <tr>\n",
       "      <th>66</th>\n",
       "      <td>0</td>\n",
       "      <td>0</td>\n",
       "      <td>1</td>\n",
       "      <td>А.</td>\n",
       "      <td>Станционный смотритель</td>\n",
       "      <td>С.</td>\n",
       "      <td>ru.wikisource.org/wiki/%D0%A1%D1%82%D0%B0%D0%B...</td>\n",
       "      <td>Пушкин</td>\n",
       "    </tr>\n",
       "    <tr>\n",
       "      <th>67</th>\n",
       "      <td>0</td>\n",
       "      <td>0</td>\n",
       "      <td>1</td>\n",
       "      <td>А.</td>\n",
       "      <td>Выстрел</td>\n",
       "      <td>С.</td>\n",
       "      <td>ru.wikisource.org/wiki/%D0%92%D1%8B%D1%81%D1%8...</td>\n",
       "      <td>Пушкин</td>\n",
       "    </tr>\n",
       "    <tr>\n",
       "      <th>68</th>\n",
       "      <td>0</td>\n",
       "      <td>0</td>\n",
       "      <td>1</td>\n",
       "      <td>А.</td>\n",
       "      <td>Гробовщик</td>\n",
       "      <td>С.</td>\n",
       "      <td>ru.wikisource.org/wiki/%D0%93%D1%80%D0%BE%D0%B...</td>\n",
       "      <td>Пушкин</td>\n",
       "    </tr>\n",
       "  </tbody>\n",
       "</table>\n",
       "</div>"
      ],
      "text/plain": [
       "    Litres  PDF  Wiki Имя                                           Название  \\\n",
       "64       0    0     1  А.  Повести Белкина\\nМетель\\nСтанционный смотрител...   \n",
       "65       0    0     1  А.                                             Метель   \n",
       "66       0    0     1  А.                             Станционный смотритель   \n",
       "67       0    0     1  А.                                            Выстрел   \n",
       "68       0    0     1  А.                                          Гробовщик   \n",
       "\n",
       "   Отчество                                             Ссылка Фамилия  \n",
       "64       С.  ru.wikisource.org/wiki/%D0%9F%D0%BE%D0%B2%D0%B...  Пушкин  \n",
       "65       С.  ru.wikisource.org/wiki/%D0%9C%D0%B5%D1%82%D0%B...  Пушкин  \n",
       "66       С.  ru.wikisource.org/wiki/%D0%A1%D1%82%D0%B0%D0%B...  Пушкин  \n",
       "67       С.  ru.wikisource.org/wiki/%D0%92%D1%8B%D1%81%D1%8...  Пушкин  \n",
       "68       С.  ru.wikisource.org/wiki/%D0%93%D1%80%D0%BE%D0%B...  Пушкин  "
      ]
     },
     "execution_count": 174,
     "metadata": {},
     "output_type": "execute_result"
    }
   ],
   "source": [
    "data[data['Фамилия']=='Пушкин'].head()"
   ]
  },
  {
   "cell_type": "code",
   "execution_count": null,
   "metadata": {},
   "outputs": [],
   "source": [
    "data.to_csv('wiki_pdf_table.csv')"
   ]
  },
  {
   "cell_type": "markdown",
   "metadata": {},
   "source": [
    "# Унифицируем имена"
   ]
  },
  {
   "cell_type": "code",
   "execution_count": 90,
   "metadata": {},
   "outputs": [
    {
     "data": {
      "text/plain": [
       "(990, 8)"
      ]
     },
     "execution_count": 90,
     "metadata": {},
     "output_type": "execute_result"
    }
   ],
   "source": [
    "data.shape"
   ]
  },
  {
   "cell_type": "code",
   "execution_count": 175,
   "metadata": {},
   "outputs": [],
   "source": [
    "def name_shortner(line):\n",
    "    \n",
    "    \"\"\"\n",
    "    Сокращаем имена до первой буквы\n",
    "    \"\"\"\n",
    "    \n",
    "    if line != '':\n",
    "        return line[0]\n",
    "    return line\n",
    "\n",
    "\n",
    "data['Short name'] = data['Имя'].apply(name_shortner)"
   ]
  },
  {
   "cell_type": "code",
   "execution_count": 176,
   "metadata": {},
   "outputs": [
    {
     "data": {
      "text/html": [
       "<div>\n",
       "<style scoped>\n",
       "    .dataframe tbody tr th:only-of-type {\n",
       "        vertical-align: middle;\n",
       "    }\n",
       "\n",
       "    .dataframe tbody tr th {\n",
       "        vertical-align: top;\n",
       "    }\n",
       "\n",
       "    .dataframe thead th {\n",
       "        text-align: right;\n",
       "    }\n",
       "</style>\n",
       "<table border=\"1\" class=\"dataframe\">\n",
       "  <thead>\n",
       "    <tr style=\"text-align: right;\">\n",
       "      <th></th>\n",
       "      <th>Litres</th>\n",
       "      <th>PDF</th>\n",
       "      <th>Wiki</th>\n",
       "      <th>Имя</th>\n",
       "      <th>Название</th>\n",
       "      <th>Отчество</th>\n",
       "      <th>Ссылка</th>\n",
       "      <th>Фамилия</th>\n",
       "      <th>Short name</th>\n",
       "    </tr>\n",
       "  </thead>\n",
       "  <tbody>\n",
       "    <tr>\n",
       "      <th>2</th>\n",
       "      <td>0</td>\n",
       "      <td>0</td>\n",
       "      <td>1</td>\n",
       "      <td>Исторические</td>\n",
       "      <td>Ермак готовится к походу на Сибирь</td>\n",
       "      <td></td>\n",
       "      <td>ru.wikisource.org/wiki/%D0%95%D1%80%D0%BC%D0%B...</td>\n",
       "      <td>песни</td>\n",
       "      <td>И</td>\n",
       "    </tr>\n",
       "    <tr>\n",
       "      <th>3</th>\n",
       "      <td>0</td>\n",
       "      <td>0</td>\n",
       "      <td>1</td>\n",
       "      <td>Исторические</td>\n",
       "      <td>Пугачёв в темнице</td>\n",
       "      <td></td>\n",
       "      <td>ru.wikisource.org/wiki/%D0%9F%D1%83%D0%B3%D0%B...</td>\n",
       "      <td>песни</td>\n",
       "      <td>И</td>\n",
       "    </tr>\n",
       "    <tr>\n",
       "      <th>16</th>\n",
       "      <td>0</td>\n",
       "      <td>0</td>\n",
       "      <td>1</td>\n",
       "      <td>Древнерусская</td>\n",
       "      <td>Повесть временных лет (фрагменты)</td>\n",
       "      <td></td>\n",
       "      <td>ru.wikisource.org/wiki/%D0%9F%D0%BE%D0%B2%D0%B...</td>\n",
       "      <td>литература</td>\n",
       "      <td>Д</td>\n",
       "    </tr>\n",
       "    <tr>\n",
       "      <th>17</th>\n",
       "      <td>0</td>\n",
       "      <td>0</td>\n",
       "      <td>1</td>\n",
       "      <td>Древнерусская</td>\n",
       "      <td>Слово о разорении Рязани Батыем (фрагменты)</td>\n",
       "      <td></td>\n",
       "      <td>ru.wikisource.org/wiki/%D0%9F%D0%BE%D0%B2%D0%B...</td>\n",
       "      <td>литература</td>\n",
       "      <td>Д</td>\n",
       "    </tr>\n",
       "    <tr>\n",
       "      <th>18</th>\n",
       "      <td>0</td>\n",
       "      <td>0</td>\n",
       "      <td>1</td>\n",
       "      <td>Древнерусская</td>\n",
       "      <td>Житие Бориса и Глеба</td>\n",
       "      <td></td>\n",
       "      <td>ru.wikisource.org/wiki/%D0%9F%D0%BE%D0%B2%D0%B...</td>\n",
       "      <td>литература</td>\n",
       "      <td>Д</td>\n",
       "    </tr>\n",
       "  </tbody>\n",
       "</table>\n",
       "</div>"
      ],
      "text/plain": [
       "    Litres  PDF  Wiki            Имя  \\\n",
       "2        0    0     1   Исторические   \n",
       "3        0    0     1   Исторические   \n",
       "16       0    0     1  Древнерусская   \n",
       "17       0    0     1  Древнерусская   \n",
       "18       0    0     1  Древнерусская   \n",
       "\n",
       "                                       Название Отчество  \\\n",
       "2            Ермак готовится к походу на Сибирь            \n",
       "3                             Пугачёв в темнице            \n",
       "16            Повесть временных лет (фрагменты)            \n",
       "17  Слово о разорении Рязани Батыем (фрагменты)            \n",
       "18                         Житие Бориса и Глеба            \n",
       "\n",
       "                                               Ссылка     Фамилия Short name  \n",
       "2   ru.wikisource.org/wiki/%D0%95%D1%80%D0%BC%D0%B...       песни          И  \n",
       "3   ru.wikisource.org/wiki/%D0%9F%D1%83%D0%B3%D0%B...       песни          И  \n",
       "16  ru.wikisource.org/wiki/%D0%9F%D0%BE%D0%B2%D0%B...  литература          Д  \n",
       "17  ru.wikisource.org/wiki/%D0%9F%D0%BE%D0%B2%D0%B...  литература          Д  \n",
       "18  ru.wikisource.org/wiki/%D0%9F%D0%BE%D0%B2%D0%B...  литература          Д  "
      ]
     },
     "execution_count": 176,
     "metadata": {},
     "output_type": "execute_result"
    }
   ],
   "source": [
    "data[data['Short name'] != ''].head()"
   ]
  },
  {
   "cell_type": "code",
   "execution_count": null,
   "metadata": {},
   "outputs": [],
   "source": []
  },
  {
   "cell_type": "markdown",
   "metadata": {},
   "source": [
    "## Удаляем повторы"
   ]
  },
  {
   "cell_type": "markdown",
   "metadata": {},
   "source": [
    "Опускаем, если у нас совпадает сокращенное имя, фамилия и название произведения. + Ставим 1 в тех полях оставленного вхождения, где еще встретился интересующий нас текст. "
   ]
  },
  {
   "cell_type": "code",
   "execution_count": 177,
   "metadata": {},
   "outputs": [
    {
     "name": "stderr",
     "output_type": "stream",
     "text": [
      "/Library/Frameworks/Python.framework/Versions/3.6/lib/python3.6/site-packages/ipykernel_launcher.py:12: SettingWithCopyWarning: \n",
      "A value is trying to be set on a copy of a slice from a DataFrame\n",
      "\n",
      "See the caveats in the documentation: http://pandas.pydata.org/pandas-docs/stable/indexing.html#indexing-view-versus-copy\n",
      "  if sys.path[0] == '':\n"
     ]
    }
   ],
   "source": [
    "dup_d = data[data.duplicated(subset=['Фамилия', \n",
    "                                     'Short name',\n",
    "                                     'Название'], \n",
    "                             keep=False)]\n",
    "\n",
    "\n",
    "for i in dup_d.groupby(['Фамилия', 'Short name', 'Название']):\n",
    "    \n",
    "    for l in i:\n",
    "        \n",
    "        if not isinstance(l, tuple):\n",
    "            s = l[['Wiki', 'PDF', 'Litres']].sum(axis=0)\n",
    "            \n",
    "            for ind in l.index:\n",
    "                for name in ['Wiki', 'PDF', 'Litres']:\n",
    "                    data[name][ind] = s[name]\n"
   ]
  },
  {
   "cell_type": "code",
   "execution_count": 178,
   "metadata": {},
   "outputs": [],
   "source": [
    "data_no_dub = data.drop_duplicates(subset=['Фамилия', 'Short name', 'Название'], keep='first', inplace=False)"
   ]
  },
  {
   "cell_type": "code",
   "execution_count": 125,
   "metadata": {},
   "outputs": [
    {
     "data": {
      "text/plain": [
       "(990, 10)"
      ]
     },
     "execution_count": 125,
     "metadata": {},
     "output_type": "execute_result"
    }
   ],
   "source": [
    "data.shape"
   ]
  },
  {
   "cell_type": "code",
   "execution_count": 179,
   "metadata": {},
   "outputs": [
    {
     "data": {
      "text/plain": [
       "(927, 9)"
      ]
     },
     "execution_count": 179,
     "metadata": {},
     "output_type": "execute_result"
    }
   ],
   "source": [
    "data_no_dub.shape"
   ]
  },
  {
   "cell_type": "markdown",
   "metadata": {},
   "source": [
    "### Какие тексты есть сразу в трех документах: "
   ]
  },
  {
   "cell_type": "code",
   "execution_count": 201,
   "metadata": {},
   "outputs": [
    {
     "name": "stderr",
     "output_type": "stream",
     "text": [
      "/Library/Frameworks/Python.framework/Versions/3.6/lib/python3.6/site-packages/ipykernel_launcher.py:1: SettingWithCopyWarning: \n",
      "A value is trying to be set on a copy of a slice from a DataFrame.\n",
      "Try using .loc[row_indexer,col_indexer] = value instead\n",
      "\n",
      "See the caveats in the documentation: http://pandas.pydata.org/pandas-docs/stable/indexing.html#indexing-view-versus-copy\n",
      "  \"\"\"Entry point for launching an IPython kernel.\n"
     ]
    }
   ],
   "source": [
    "data_no_dub['Score'] = data_no_dub[['Litres', 'PDF', 'Wiki']].sum(axis=1)"
   ]
  },
  {
   "cell_type": "code",
   "execution_count": 202,
   "metadata": {},
   "outputs": [
    {
     "data": {
      "text/html": [
       "<div>\n",
       "<style scoped>\n",
       "    .dataframe tbody tr th:only-of-type {\n",
       "        vertical-align: middle;\n",
       "    }\n",
       "\n",
       "    .dataframe tbody tr th {\n",
       "        vertical-align: top;\n",
       "    }\n",
       "\n",
       "    .dataframe thead th {\n",
       "        text-align: right;\n",
       "    }\n",
       "</style>\n",
       "<table border=\"1\" class=\"dataframe\">\n",
       "  <thead>\n",
       "    <tr style=\"text-align: right;\">\n",
       "      <th></th>\n",
       "      <th>Litres</th>\n",
       "      <th>PDF</th>\n",
       "      <th>Wiki</th>\n",
       "      <th>Имя</th>\n",
       "      <th>Название</th>\n",
       "      <th>Отчество</th>\n",
       "      <th>Ссылка</th>\n",
       "      <th>Фамилия</th>\n",
       "      <th>Short name</th>\n",
       "      <th>Score</th>\n",
       "    </tr>\n",
       "  </thead>\n",
       "  <tbody>\n",
       "    <tr>\n",
       "      <th>71</th>\n",
       "      <td>1</td>\n",
       "      <td>1</td>\n",
       "      <td>1</td>\n",
       "      <td>А.</td>\n",
       "      <td>Капитанская дочка</td>\n",
       "      <td>С.</td>\n",
       "      <td>ru.wikisource.org/wiki/%D0%9A%D0%B0%D0%BF%D0%B...</td>\n",
       "      <td>Пушкин</td>\n",
       "      <td>А</td>\n",
       "      <td>3</td>\n",
       "    </tr>\n",
       "    <tr>\n",
       "      <th>75</th>\n",
       "      <td>1</td>\n",
       "      <td>1</td>\n",
       "      <td>1</td>\n",
       "      <td>А.</td>\n",
       "      <td>Евгений Онегин</td>\n",
       "      <td>С.</td>\n",
       "      <td>ru.wikisource.org/wiki/%D0%95%D0%B2%D0%B3%D0%B...</td>\n",
       "      <td>Пушкин</td>\n",
       "      <td>А</td>\n",
       "      <td>3</td>\n",
       "    </tr>\n",
       "    <tr>\n",
       "      <th>76</th>\n",
       "      <td>1</td>\n",
       "      <td>1</td>\n",
       "      <td>1</td>\n",
       "      <td>А.</td>\n",
       "      <td>Борис Годунов</td>\n",
       "      <td>С.</td>\n",
       "      <td>ru.wikisource.org/wiki/%D0%91%D0%BE%D1%80%D0%B...</td>\n",
       "      <td>Пушкин</td>\n",
       "      <td>А</td>\n",
       "      <td>3</td>\n",
       "    </tr>\n",
       "    <tr>\n",
       "      <th>108</th>\n",
       "      <td>1</td>\n",
       "      <td>1</td>\n",
       "      <td>1</td>\n",
       "      <td>М.</td>\n",
       "      <td>Герой нашего времени</td>\n",
       "      <td>Ю.</td>\n",
       "      <td>ru.wikisource.org/wiki/%D0%93%D0%B5%D1%80%D0%B...</td>\n",
       "      <td>Лермонтов</td>\n",
       "      <td>М</td>\n",
       "      <td>3</td>\n",
       "    </tr>\n",
       "    <tr>\n",
       "      <th>111</th>\n",
       "      <td>1</td>\n",
       "      <td>1</td>\n",
       "      <td>1</td>\n",
       "      <td>М.</td>\n",
       "      <td>Мцыри</td>\n",
       "      <td>Ю.</td>\n",
       "      <td>ru.wikisource.org/wiki/%D0%9C%D1%86%D1%8B%D1%8...</td>\n",
       "      <td>Лермонтов</td>\n",
       "      <td>М</td>\n",
       "      <td>3</td>\n",
       "    </tr>\n",
       "    <tr>\n",
       "      <th>119</th>\n",
       "      <td>1</td>\n",
       "      <td>1</td>\n",
       "      <td>1</td>\n",
       "      <td>М.</td>\n",
       "      <td>Бородино</td>\n",
       "      <td>Ю.</td>\n",
       "      <td>ru.wikisource.org/wiki/%D0%91%D0%BE%D1%80%D0%B...</td>\n",
       "      <td>Лермонтов</td>\n",
       "      <td>М</td>\n",
       "      <td>3</td>\n",
       "    </tr>\n",
       "    <tr>\n",
       "      <th>143</th>\n",
       "      <td>1</td>\n",
       "      <td>1</td>\n",
       "      <td>1</td>\n",
       "      <td>А.</td>\n",
       "      <td>Гроза</td>\n",
       "      <td>Н.</td>\n",
       "      <td>ru.wikisource.org/wiki/%D0%93%D1%80%D0%BE%D0%B...</td>\n",
       "      <td>Островский</td>\n",
       "      <td>А</td>\n",
       "      <td>3</td>\n",
       "    </tr>\n",
       "    <tr>\n",
       "      <th>145</th>\n",
       "      <td>1</td>\n",
       "      <td>1</td>\n",
       "      <td>1</td>\n",
       "      <td>А.</td>\n",
       "      <td>Снегурочка</td>\n",
       "      <td>Н.</td>\n",
       "      <td>ru.wikisource.org/wiki/%D0%A1%D0%BD%D0%B5%D0%B...</td>\n",
       "      <td>Островский</td>\n",
       "      <td>А</td>\n",
       "      <td>3</td>\n",
       "    </tr>\n",
       "    <tr>\n",
       "      <th>147</th>\n",
       "      <td>1</td>\n",
       "      <td>1</td>\n",
       "      <td>1</td>\n",
       "      <td>И.</td>\n",
       "      <td>Отцы и дети</td>\n",
       "      <td>С.</td>\n",
       "      <td>ru.wikisource.org/wiki/%D0%9E%D1%82%D1%86%D1%8...</td>\n",
       "      <td>Тургенев</td>\n",
       "      <td>И</td>\n",
       "      <td>3</td>\n",
       "    </tr>\n",
       "    <tr>\n",
       "      <th>229</th>\n",
       "      <td>1</td>\n",
       "      <td>1</td>\n",
       "      <td>1</td>\n",
       "      <td>Н.</td>\n",
       "      <td>Левша</td>\n",
       "      <td>С.</td>\n",
       "      <td>ru.wikisource.org/wiki/%D0%9B%D0%B5%D0%B2%D1%8...</td>\n",
       "      <td>Лесков</td>\n",
       "      <td>Н</td>\n",
       "      <td>3</td>\n",
       "    </tr>\n",
       "    <tr>\n",
       "      <th>230</th>\n",
       "      <td>1</td>\n",
       "      <td>1</td>\n",
       "      <td>1</td>\n",
       "      <td>Н.</td>\n",
       "      <td>Очарованный странник</td>\n",
       "      <td>С.</td>\n",
       "      <td>ru.wikisource.org/wiki/%D0%9E%D1%87%D0%B0%D1%8...</td>\n",
       "      <td>Лесков</td>\n",
       "      <td>Н</td>\n",
       "      <td>3</td>\n",
       "    </tr>\n",
       "    <tr>\n",
       "      <th>233</th>\n",
       "      <td>1</td>\n",
       "      <td>1</td>\n",
       "      <td>1</td>\n",
       "      <td>И.</td>\n",
       "      <td>Обломов</td>\n",
       "      <td>А.</td>\n",
       "      <td>ru.wikisource.org/wiki/%D0%9E%D0%B1%D0%BB%D0%B...</td>\n",
       "      <td>Гончаров</td>\n",
       "      <td>И</td>\n",
       "      <td>3</td>\n",
       "    </tr>\n",
       "    <tr>\n",
       "      <th>247</th>\n",
       "      <td>1</td>\n",
       "      <td>1</td>\n",
       "      <td>1</td>\n",
       "      <td>М.</td>\n",
       "      <td>История одного города</td>\n",
       "      <td>Е.</td>\n",
       "      <td>ru.wikisource.org/wiki/%D0%98%D1%81%D1%82%D0%B...</td>\n",
       "      <td>Салтыков-Щедрин</td>\n",
       "      <td>М</td>\n",
       "      <td>3</td>\n",
       "    </tr>\n",
       "    <tr>\n",
       "      <th>251</th>\n",
       "      <td>1</td>\n",
       "      <td>1</td>\n",
       "      <td>1</td>\n",
       "      <td>М.</td>\n",
       "      <td>Медведь на воеводстве</td>\n",
       "      <td>Е.</td>\n",
       "      <td>ru.wikisource.org/wiki/%D0%9C%D0%B5%D0%B4%D0%B...</td>\n",
       "      <td>Салтыков-Щедрин</td>\n",
       "      <td>М</td>\n",
       "      <td>3</td>\n",
       "    </tr>\n",
       "    <tr>\n",
       "      <th>252</th>\n",
       "      <td>1</td>\n",
       "      <td>1</td>\n",
       "      <td>1</td>\n",
       "      <td>Ф.</td>\n",
       "      <td>Преступление и наказание</td>\n",
       "      <td>М.</td>\n",
       "      <td>ru.wikisource.org/wiki/%D0%9F%D1%80%D0%B5%D1%8...</td>\n",
       "      <td>Достоевский</td>\n",
       "      <td>Ф</td>\n",
       "      <td>3</td>\n",
       "    </tr>\n",
       "    <tr>\n",
       "      <th>255</th>\n",
       "      <td>1</td>\n",
       "      <td>1</td>\n",
       "      <td>1</td>\n",
       "      <td>Ф.</td>\n",
       "      <td>Белые ночи</td>\n",
       "      <td>М.</td>\n",
       "      <td>ru.wikisource.org/wiki/%D0%91%D0%B5%D0%BB%D1%8...</td>\n",
       "      <td>Достоевский</td>\n",
       "      <td>Ф</td>\n",
       "      <td>3</td>\n",
       "    </tr>\n",
       "    <tr>\n",
       "      <th>262</th>\n",
       "      <td>1</td>\n",
       "      <td>1</td>\n",
       "      <td>1</td>\n",
       "      <td>В.</td>\n",
       "      <td>В дурном обществе</td>\n",
       "      <td>Г.</td>\n",
       "      <td>ru.wikisource.org/wiki/%D0%92_%D0%B4%D1%83%D1%...</td>\n",
       "      <td>Короленко</td>\n",
       "      <td>В</td>\n",
       "      <td>3</td>\n",
       "    </tr>\n",
       "    <tr>\n",
       "      <th>270</th>\n",
       "      <td>1</td>\n",
       "      <td>1</td>\n",
       "      <td>1</td>\n",
       "      <td>А.</td>\n",
       "      <td>Толстый и тонкий</td>\n",
       "      <td>П.</td>\n",
       "      <td>ru.wikisource.org/wiki/%D0%A2%D0%BE%D0%BB%D1%8...</td>\n",
       "      <td>Чехов</td>\n",
       "      <td>А</td>\n",
       "      <td>3</td>\n",
       "    </tr>\n",
       "    <tr>\n",
       "      <th>325</th>\n",
       "      <td>1</td>\n",
       "      <td>1</td>\n",
       "      <td>1</td>\n",
       "      <td>А.</td>\n",
       "      <td>Гранатовый браслет</td>\n",
       "      <td>И.</td>\n",
       "      <td>ru.wikisource.org/wiki/%D0%93%D1%80%D0%B0%D0%B...</td>\n",
       "      <td>Куприн</td>\n",
       "      <td>А</td>\n",
       "      <td>3</td>\n",
       "    </tr>\n",
       "    <tr>\n",
       "      <th>335</th>\n",
       "      <td>1</td>\n",
       "      <td>1</td>\n",
       "      <td>1</td>\n",
       "      <td>М.</td>\n",
       "      <td>На дне</td>\n",
       "      <td></td>\n",
       "      <td>ru.wikisource.org/wiki/%D0%9D%D0%B0_%D0%B4%D0%...</td>\n",
       "      <td>Горький</td>\n",
       "      <td>М</td>\n",
       "      <td>3</td>\n",
       "    </tr>\n",
       "    <tr>\n",
       "      <th>337</th>\n",
       "      <td>1</td>\n",
       "      <td>1</td>\n",
       "      <td>1</td>\n",
       "      <td>М.</td>\n",
       "      <td>Старуха Изергиль</td>\n",
       "      <td></td>\n",
       "      <td>ru.wikisource.org/wiki/%D0%A1%D1%82%D0%B0%D1%8...</td>\n",
       "      <td>Горький</td>\n",
       "      <td>М</td>\n",
       "      <td>3</td>\n",
       "    </tr>\n",
       "    <tr>\n",
       "      <th>339</th>\n",
       "      <td>1</td>\n",
       "      <td>1</td>\n",
       "      <td>1</td>\n",
       "      <td>М.</td>\n",
       "      <td>Детство</td>\n",
       "      <td></td>\n",
       "      <td>ru.wikisource.org/wiki/%D0%94%D0%B5%D1%82%D1%8...</td>\n",
       "      <td>Горький</td>\n",
       "      <td>М</td>\n",
       "      <td>3</td>\n",
       "    </tr>\n",
       "    <tr>\n",
       "      <th>341</th>\n",
       "      <td>1</td>\n",
       "      <td>1</td>\n",
       "      <td>1</td>\n",
       "      <td>М.</td>\n",
       "      <td>Челкаш</td>\n",
       "      <td></td>\n",
       "      <td>ru.wikisource.org/wiki/%D0%A7%D0%B5%D0%BB%D0%B...</td>\n",
       "      <td>Горький</td>\n",
       "      <td>М</td>\n",
       "      <td>3</td>\n",
       "    </tr>\n",
       "    <tr>\n",
       "      <th>476</th>\n",
       "      <td>1</td>\n",
       "      <td>1</td>\n",
       "      <td>1</td>\n",
       "      <td>М.</td>\n",
       "      <td>Собачье сердце</td>\n",
       "      <td>А.</td>\n",
       "      <td>ru.wikisource.orghttps://wikilivres.org/wiki/%...</td>\n",
       "      <td>Булгаков</td>\n",
       "      <td>М</td>\n",
       "      <td>3</td>\n",
       "    </tr>\n",
       "    <tr>\n",
       "      <th>477</th>\n",
       "      <td>1</td>\n",
       "      <td>1</td>\n",
       "      <td>1</td>\n",
       "      <td>М.</td>\n",
       "      <td>Мастер и Маргарита</td>\n",
       "      <td>А.</td>\n",
       "      <td>ru.wikisource.orghttps://wikilivres.org/wiki/%...</td>\n",
       "      <td>Булгаков</td>\n",
       "      <td>М</td>\n",
       "      <td>3</td>\n",
       "    </tr>\n",
       "  </tbody>\n",
       "</table>\n",
       "</div>"
      ],
      "text/plain": [
       "     Litres  PDF  Wiki Имя                  Название Отчество  \\\n",
       "71        1    1     1  А.         Капитанская дочка       С.   \n",
       "75        1    1     1  А.            Евгений Онегин       С.   \n",
       "76        1    1     1  А.             Борис Годунов       С.   \n",
       "108       1    1     1  М.      Герой нашего времени       Ю.   \n",
       "111       1    1     1  М.                     Мцыри       Ю.   \n",
       "119       1    1     1  М.                  Бородино       Ю.   \n",
       "143       1    1     1  А.                     Гроза       Н.   \n",
       "145       1    1     1  А.                Снегурочка       Н.   \n",
       "147       1    1     1  И.               Отцы и дети       С.   \n",
       "229       1    1     1  Н.                     Левша       С.   \n",
       "230       1    1     1  Н.      Очарованный странник       С.   \n",
       "233       1    1     1  И.                   Обломов       А.   \n",
       "247       1    1     1  М.     История одного города       Е.   \n",
       "251       1    1     1  М.     Медведь на воеводстве       Е.   \n",
       "252       1    1     1  Ф.  Преступление и наказание       М.   \n",
       "255       1    1     1  Ф.                Белые ночи       М.   \n",
       "262       1    1     1  В.         В дурном обществе       Г.   \n",
       "270       1    1     1  А.          Толстый и тонкий       П.   \n",
       "325       1    1     1  А.        Гранатовый браслет       И.   \n",
       "335       1    1     1  М.                    На дне            \n",
       "337       1    1     1  М.          Старуха Изергиль            \n",
       "339       1    1     1  М.                   Детство            \n",
       "341       1    1     1  М.                    Челкаш            \n",
       "476       1    1     1  М.            Собачье сердце       А.   \n",
       "477       1    1     1  М.        Мастер и Маргарита       А.   \n",
       "\n",
       "                                                Ссылка          Фамилия  \\\n",
       "71   ru.wikisource.org/wiki/%D0%9A%D0%B0%D0%BF%D0%B...           Пушкин   \n",
       "75   ru.wikisource.org/wiki/%D0%95%D0%B2%D0%B3%D0%B...           Пушкин   \n",
       "76   ru.wikisource.org/wiki/%D0%91%D0%BE%D1%80%D0%B...           Пушкин   \n",
       "108  ru.wikisource.org/wiki/%D0%93%D0%B5%D1%80%D0%B...        Лермонтов   \n",
       "111  ru.wikisource.org/wiki/%D0%9C%D1%86%D1%8B%D1%8...        Лермонтов   \n",
       "119  ru.wikisource.org/wiki/%D0%91%D0%BE%D1%80%D0%B...        Лермонтов   \n",
       "143  ru.wikisource.org/wiki/%D0%93%D1%80%D0%BE%D0%B...       Островский   \n",
       "145  ru.wikisource.org/wiki/%D0%A1%D0%BD%D0%B5%D0%B...       Островский   \n",
       "147  ru.wikisource.org/wiki/%D0%9E%D1%82%D1%86%D1%8...         Тургенев   \n",
       "229  ru.wikisource.org/wiki/%D0%9B%D0%B5%D0%B2%D1%8...           Лесков   \n",
       "230  ru.wikisource.org/wiki/%D0%9E%D1%87%D0%B0%D1%8...           Лесков   \n",
       "233  ru.wikisource.org/wiki/%D0%9E%D0%B1%D0%BB%D0%B...         Гончаров   \n",
       "247  ru.wikisource.org/wiki/%D0%98%D1%81%D1%82%D0%B...  Салтыков-Щедрин   \n",
       "251  ru.wikisource.org/wiki/%D0%9C%D0%B5%D0%B4%D0%B...  Салтыков-Щедрин   \n",
       "252  ru.wikisource.org/wiki/%D0%9F%D1%80%D0%B5%D1%8...      Достоевский   \n",
       "255  ru.wikisource.org/wiki/%D0%91%D0%B5%D0%BB%D1%8...      Достоевский   \n",
       "262  ru.wikisource.org/wiki/%D0%92_%D0%B4%D1%83%D1%...        Короленко   \n",
       "270  ru.wikisource.org/wiki/%D0%A2%D0%BE%D0%BB%D1%8...            Чехов   \n",
       "325  ru.wikisource.org/wiki/%D0%93%D1%80%D0%B0%D0%B...           Куприн   \n",
       "335  ru.wikisource.org/wiki/%D0%9D%D0%B0_%D0%B4%D0%...          Горький   \n",
       "337  ru.wikisource.org/wiki/%D0%A1%D1%82%D0%B0%D1%8...          Горький   \n",
       "339  ru.wikisource.org/wiki/%D0%94%D0%B5%D1%82%D1%8...          Горький   \n",
       "341  ru.wikisource.org/wiki/%D0%A7%D0%B5%D0%BB%D0%B...          Горький   \n",
       "476  ru.wikisource.orghttps://wikilivres.org/wiki/%...         Булгаков   \n",
       "477  ru.wikisource.orghttps://wikilivres.org/wiki/%...         Булгаков   \n",
       "\n",
       "    Short name  Score  \n",
       "71           А      3  \n",
       "75           А      3  \n",
       "76           А      3  \n",
       "108          М      3  \n",
       "111          М      3  \n",
       "119          М      3  \n",
       "143          А      3  \n",
       "145          А      3  \n",
       "147          И      3  \n",
       "229          Н      3  \n",
       "230          Н      3  \n",
       "233          И      3  \n",
       "247          М      3  \n",
       "251          М      3  \n",
       "252          Ф      3  \n",
       "255          Ф      3  \n",
       "262          В      3  \n",
       "270          А      3  \n",
       "325          А      3  \n",
       "335          М      3  \n",
       "337          М      3  \n",
       "339          М      3  \n",
       "341          М      3  \n",
       "476          М      3  \n",
       "477          М      3  "
      ]
     },
     "execution_count": 202,
     "metadata": {},
     "output_type": "execute_result"
    }
   ],
   "source": [
    "data_no_dub[data_no_dub['Score'] == 3]#.head()"
   ]
  },
  {
   "cell_type": "code",
   "execution_count": null,
   "metadata": {},
   "outputs": [],
   "source": []
  },
  {
   "cell_type": "markdown",
   "metadata": {},
   "source": [
    "#### Coхраняем данные "
   ]
  },
  {
   "cell_type": "code",
   "execution_count": 203,
   "metadata": {},
   "outputs": [],
   "source": [
    "data_no_dub.to_csv('wiki_pdf_table_uni.csv')"
   ]
  },
  {
   "cell_type": "code",
   "execution_count": null,
   "metadata": {},
   "outputs": [],
   "source": []
  },
  {
   "cell_type": "markdown",
   "metadata": {},
   "source": [
    "# Находим года смерти авторов"
   ]
  },
  {
   "cell_type": "markdown",
   "metadata": {},
   "source": [
    "Русские писатели, умершие раньше 1949 года"
   ]
  },
  {
   "cell_type": "markdown",
   "metadata": {},
   "source": [
    "```\n",
    "SELECT ?item ?itemLabel ?death WHERE {\n",
    "  ?item wdt:P31 wd:Q5.\n",
    "  ?item wdt:P172 wd:Q49542.\n",
    "  ?item wdt:P106 wd:Q36180;\n",
    "    wdt:P570 ?death.\n",
    "  FILTER((YEAR(?death)) <= 1949 )\n",
    "  SERVICE wikibase:label { bd:serviceParam wikibase:language \"ru\". }\n",
    "}\n",
    "```"
   ]
  },
  {
   "cell_type": "markdown",
   "metadata": {},
   "source": [
    "Люди, писавшие или говорившие на русском, умершие раньше 1949 года"
   ]
  },
  {
   "cell_type": "markdown",
   "metadata": {},
   "source": [
    "```\n",
    "SELECT ?item ?itemLabel ?death WHERE {\n",
    "  ?item wdt:P31 wd:Q5.\n",
    "  ?item wdt:P172 wd:Q49542;\n",
    "    wdt:P570 ?death.\n",
    "  FILTER((YEAR(?death)) <= 1949 )\n",
    "  SERVICE wikibase:label { bd:serviceParam wikibase:language \"ru\". }\n",
    "}\n",
    "```"
   ]
  },
  {
   "cell_type": "code",
   "execution_count": 40,
   "metadata": {},
   "outputs": [],
   "source": [
    "with open('rus_lang_7k.json') as json_file:\n",
    "    wikidata_7k = json.load(json_file)\n",
    "    wikidata_7k = [i['itemLabel'] for i in wikidata_7k]"
   ]
  },
  {
   "cell_type": "code",
   "execution_count": 41,
   "metadata": {},
   "outputs": [
    {
     "data": {
      "text/plain": [
       "list"
      ]
     },
     "execution_count": 41,
     "metadata": {},
     "output_type": "execute_result"
    }
   ],
   "source": [
    "type(wikidata_7k)"
   ]
  },
  {
   "cell_type": "code",
   "execution_count": 43,
   "metadata": {},
   "outputs": [
    {
     "data": {
      "text/plain": [
       "['Екатерина II',\n",
       " 'Фёдор Иванович Тютчев',\n",
       " 'Саломе, Лу',\n",
       " 'Николай II',\n",
       " 'Константин Эдуардович Циолковский',\n",
       " 'Иван Сергеевич Тургенев',\n",
       " 'Иван Петрович Павлов',\n",
       " 'Николай Васильевич Гоголь',\n",
       " 'Афанасий',\n",
       " 'Григорий Ефимович Распутин']"
      ]
     },
     "execution_count": 43,
     "metadata": {},
     "output_type": "execute_result"
    }
   ],
   "source": [
    "wikidata_7k[:10]"
   ]
  },
  {
   "cell_type": "code",
   "execution_count": 3,
   "metadata": {},
   "outputs": [],
   "source": [
    "# Сергей Александрович Есенин\n",
    "# Лу Синь \n",
    "# Канарис, Вильгельм Франц\n",
    "\n",
    "wiki_data_surnames = set()\n",
    "\n",
    "for line in wikidata_7k:\n",
    "    \n",
    "    if ',' in line: ans = line.split(',')[0]\n",
    "    else: ans = line.split(' ')[-1]\n",
    "    \n",
    "    wiki_data_surnames.add(ans)"
   ]
  },
  {
   "cell_type": "code",
   "execution_count": 4,
   "metadata": {},
   "outputs": [
    {
     "data": {
      "text/plain": [
       "{'II',\n",
       " 'Афанасий',\n",
       " 'Гоголь',\n",
       " 'Павлов',\n",
       " 'Распутин',\n",
       " 'Саломе',\n",
       " 'Тургенев',\n",
       " 'Тютчев',\n",
       " 'Циолковский'}"
      ]
     },
     "execution_count": 4,
     "metadata": {},
     "output_type": "execute_result"
    }
   ],
   "source": [
    "wiki_data_surnames"
   ]
  },
  {
   "cell_type": "code",
   "execution_count": 52,
   "metadata": {},
   "outputs": [
    {
     "data": {
      "text/plain": [
       "5337"
      ]
     },
     "execution_count": 52,
     "metadata": {},
     "output_type": "execute_result"
    }
   ],
   "source": [
    "len(wiki_data_surnames)"
   ]
  },
  {
   "cell_type": "code",
   "execution_count": 60,
   "metadata": {},
   "outputs": [
    {
     "data": {
      "text/plain": [
       "(89, 81)"
      ]
     },
     "execution_count": 60,
     "metadata": {},
     "output_type": "execute_result"
    }
   ],
   "source": [
    "len(yes), len(no)"
   ]
  },
  {
   "cell_type": "code",
   "execution_count": null,
   "metadata": {},
   "outputs": [],
   "source": []
  },
  {
   "cell_type": "markdown",
   "metadata": {},
   "source": [
    "## План: \n",
    "    * Добавить ифнормацию о классе\n",
    "    * Добавить год рождения человека"
   ]
  },
  {
   "cell_type": "code",
   "execution_count": null,
   "metadata": {},
   "outputs": [],
   "source": []
  }
 ],
 "metadata": {
  "kernelspec": {
   "display_name": "Python 3",
   "language": "python",
   "name": "python3"
  },
  "language_info": {
   "codemirror_mode": {
    "name": "ipython",
    "version": 3
   },
   "file_extension": ".py",
   "mimetype": "text/x-python",
   "name": "python",
   "nbconvert_exporter": "python",
   "pygments_lexer": "ipython3",
   "version": "3.6.5"
  }
 },
 "nbformat": 4,
 "nbformat_minor": 2
}
