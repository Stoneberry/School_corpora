{
 "cells": [
  {
   "cell_type": "code",
   "execution_count": 18,
   "metadata": {},
   "outputs": [],
   "source": [
    "from bs4 import BeautifulSoup\n",
    "from collections import defaultdict\n",
    "import pandas as pd\n",
    "import requests\n",
    "import logging\n",
    "import pickle\n",
    "import time\n",
    "import json\n",
    "import re"
   ]
  },
  {
   "cell_type": "code",
   "execution_count": 2,
   "metadata": {},
   "outputs": [],
   "source": [
    "from natasha import (NamesExtractor, SimpleNamesExtractor)\n",
    "from natasha.markup import format_json\n",
    "from urllib.parse import urlparse\n",
    "\n",
    "extractor = SimpleNamesExtractor()"
   ]
  },
  {
   "cell_type": "code",
   "execution_count": 3,
   "metadata": {},
   "outputs": [],
   "source": [
    "from tqdm import tqdm_notebook"
   ]
  },
  {
   "cell_type": "markdown",
   "metadata": {},
   "source": [
    "## WIKI"
   ]
  },
  {
   "cell_type": "markdown",
   "metadata": {},
   "source": [
    "### Вспомогательные функции"
   ]
  },
  {
   "cell_type": "code",
   "execution_count": 4,
   "metadata": {},
   "outputs": [],
   "source": [
    "from requests.adapters import HTTPAdapter\n",
    "from requests.packages.urllib3.util.retry import Retry\n",
    "\n",
    "session = requests.Session()\n",
    "retry = Retry(connect=3, backoff_factor=0.5)\n",
    "adapter = HTTPAdapter(max_retries=retry)\n",
    "session.mount('http://', adapter)\n",
    "session.mount('https://', adapter)\n"
   ]
  },
  {
   "cell_type": "code",
   "execution_count": 5,
   "metadata": {},
   "outputs": [],
   "source": [
    "def get_soup(url):\n",
    "    \"\"\"\n",
    "    Download a page\n",
    "    \"\"\"\n",
    "    global session\n",
    "    req = session.get(url)\n",
    "    if req.status_code == 200:\n",
    "        html = req.text\n",
    "        soup = BeautifulSoup(html, 'lxml')\n",
    "        return soup\n",
    "    return None\n",
    "\n",
    "\n",
    "def preproc(text):\n",
    "    \"\"\"\n",
    "    Preprocessing text\n",
    "    \"\"\"\n",
    "    global replacements\n",
    "    for repl in replacements:\n",
    "        text = re.sub(repl, replacements[repl], text)\n",
    "    return text\n",
    "\n",
    "\n",
    "def preproc_book(text):\n",
    "    \"\"\"\n",
    "    Preprocessing book names\n",
    "    \"\"\"\n",
    "    text = preproc(text)\n",
    "    text = re.sub('«|»', '', text)\n",
    "    return text\n"
   ]
  },
  {
   "cell_type": "code",
   "execution_count": 10,
   "metadata": {},
   "outputs": [],
   "source": [
    "def get_wiki_id(link):\n",
    "    \"\"\"\n",
    "    Extract wiki id from a link (Qid)\n",
    "    \"\"\"\n",
    "    soup = get_soup(link)\n",
    "    res = list(soup.find_all('li', id=\"t-wikibase\"))\n",
    "    w_id = None\n",
    "    if res:\n",
    "        w_id = res[0].a.attrs['href']\n",
    "        w_id = urlparse(w_id).path\n",
    "        w_id = w_id.split('/')[-1]\n",
    "        w_id = w_id.title()\n",
    "    return w_id\n",
    "\n",
    "\n",
    "def person_wiki_page(line):\n",
    "    \"\"\"\n",
    "    Extract wiki links for authors\n",
    "    \"\"\"\n",
    "    global base_url\n",
    "    wiki_link = line.a.attrs['href']\n",
    "    urlp = urlparse(wiki_link)\n",
    "    w_id = None\n",
    "    if urlp.path.startswith('/wiki/'):\n",
    "        if urlp.scheme == '' and urlp.netloc == '':\n",
    "            url = base_url + wiki_link\n",
    "        else:\n",
    "            url = wiki_link\n",
    "        w_id = get_wiki_id(url)\n",
    "    return w_id\n"
   ]
  },
  {
   "cell_type": "code",
   "execution_count": 11,
   "metadata": {},
   "outputs": [],
   "source": [
    "def book_name_parser(line, all_books, person_id, book_id):\n",
    "    \"\"\"\n",
    "    Extract and add book information\n",
    "    \"\"\"\n",
    "    for title in line.find_all('li'):\n",
    "        links = title.find_all('a')\n",
    "        book_url = None\n",
    "\n",
    "        if links == []: \n",
    "            book_name = list(title.children)[0]\n",
    "        else:\n",
    "            res = links[0]\n",
    "            book_name = res.text\n",
    "            lnk = res.attrs['href']\n",
    "            if urlparse(lnk).path.startswith('/wiki/'):\n",
    "                book_url = lnk\n",
    "\n",
    "        all_books['id'].append(book_id)\n",
    "        all_books['author_id'].append(person_id)\n",
    "        all_books['book_name'].append(preproc_book(book_name))\n",
    "        all_books['book_url'].append(book_url)\n",
    "        book_id += 1\n",
    "\n",
    "    return all_books, book_id\n"
   ]
  },
  {
   "cell_type": "code",
   "execution_count": 12,
   "metadata": {},
   "outputs": [],
   "source": [
    "def person_name_parser(line, person_id, main_tag, small_tag, col_names):\n",
    "    \"\"\"\n",
    "    Extract authors' names\n",
    "    \"\"\"\n",
    "    person = {}\n",
    "    person['id'] = person_id\n",
    "    person['main_cat'] = main_tag\n",
    "    person['add_cat'] = small_tag\n",
    "    person['wiki_id'] = person_wiki_page(line)\n",
    "\n",
    "    name = preproc(line.text)\n",
    "    person['name'] = name\n",
    "\n",
    "    words = name.split(' ')\n",
    "    ttls = [n for n in words if n.istitle()]\n",
    "\n",
    "    if len(ttls) == len(words):\n",
    "        matches = extractor(name)\n",
    "        for index, _ in enumerate(matches):\n",
    "            ordered = _.fact.as_json\n",
    "            for name_type in ordered:\n",
    "                col = name_type + str(index)\n",
    "                value = ordered[name_type]\n",
    "                person[col] = value.title()\n",
    "                col_names.add(col)\n",
    "\n",
    "    person_id += 1\n",
    "    return person, person_id\n"
   ]
  },
  {
   "cell_type": "markdown",
   "metadata": {},
   "source": [
    "### Скачиваем"
   ]
  },
  {
   "cell_type": "markdown",
   "metadata": {},
   "source": [
    "Лог"
   ]
  },
  {
   "cell_type": "code",
   "execution_count": 25,
   "metadata": {},
   "outputs": [],
   "source": [
    "dir_path = 'new/new_data/{}'\n",
    "\n",
    "logging.basicConfig(filename=dir_path.format('log3.txt'),\n",
    "                    filemode='a', level=logging.DEBUG)\n",
    "logging.info(\"Wiki parse\")"
   ]
  },
  {
   "cell_type": "markdown",
   "metadata": {},
   "source": [
    "Скачиваем страницу Викитека:Школьная_программа"
   ]
  },
  {
   "cell_type": "code",
   "execution_count": 26,
   "metadata": {},
   "outputs": [],
   "source": [
    "link_wiki = 'https://ru.wikisource.org/wiki/Викитека:Школьная_программа'\n",
    "base_url = 'https://ru.wikisource.org'\n",
    "soup_wiki = get_soup(link_wiki)\n",
    "body = soup_wiki.find(\"div\", {\"class\": \"mw-content-ltr\"})\n",
    "body = list(body)[0]"
   ]
  },
  {
   "cell_type": "markdown",
   "metadata": {},
   "source": [
    "Обработка"
   ]
  },
  {
   "cell_type": "code",
   "execution_count": 27,
   "metadata": {},
   "outputs": [],
   "source": [
    "replacements = {'\\[.+?\\]': '', '\\.-': '. ',\n",
    "                '\\(.+?\\)': '', '—|–':  '-',\n",
    "                ' +': ' ', ' ?- ?': '-', \n",
    "                '(?:^ | $|\\n|\\*|\\xa0)': ''}"
   ]
  },
  {
   "cell_type": "code",
   "execution_count": 28,
   "metadata": {},
   "outputs": [],
   "source": [
    "all_books = {'id': [], 'author_id': [], 'book_name': [], 'book_url': []}\n",
    "person_id, book_id = 0, 0\n",
    "main_tag, small_tag = '', ''\n",
    "all_persons = []\n",
    "col_names = set()"
   ]
  },
  {
   "cell_type": "code",
   "execution_count": 29,
   "metadata": {},
   "outputs": [],
   "source": [
    "index = 0\n",
    "check_id = 0\n",
    "\n",
    "for line in body:\n",
    "\n",
    "    if line.name == 'ul':\n",
    "        if check_id > -150:\n",
    "            all_books, book_id = book_name_parser(line, all_books,\n",
    "                                                  person_id, book_id)\n",
    "\n",
    "    if line.name == 'h2':  # главные разделы\n",
    "        main_tag = preproc(line.text)\n",
    "        small_tag = ''\n",
    "\n",
    "    if line.name == 'h4':  # имя\n",
    "        check_id += 1\n",
    "        if check_id > -150:\n",
    "            person, person_id = person_name_parser(line, person_id, main_tag,\n",
    "                                                   small_tag, col_names)\n",
    "            all_persons.append(person)\n",
    "            logging.info(str(person))\n",
    "            time.sleep(2)\n",
    "\n",
    "    if line.name == 'h3':\n",
    "        if main_tag == 'Русская литература':  # подкатегории\n",
    "            small_tag = preproc(line.text)\n",
    "\n",
    "        else:  # имя\n",
    "            check_id += 1\n",
    "            if check_id > -150:\n",
    "                person, person_id = person_name_parser(line, person_id,\n",
    "                                                       main_tag, small_tag,\n",
    "                                                       col_names)\n",
    "                all_persons.append(person)\n",
    "                logging.info(str(person))\n",
    "                time.sleep(2)\n",
    "\n",
    "    if index > 0 and index % 50 == 0:\n",
    "        time.sleep(25)\n",
    "    index += 1\n"
   ]
  },
  {
   "cell_type": "code",
   "execution_count": 30,
   "metadata": {},
   "outputs": [
    {
     "data": {
      "text/plain": [
       "171"
      ]
     },
     "execution_count": 30,
     "metadata": {},
     "output_type": "execute_result"
    }
   ],
   "source": [
    "len(all_persons)"
   ]
  },
  {
   "cell_type": "code",
   "execution_count": 14,
   "metadata": {},
   "outputs": [
    {
     "data": {
      "text/plain": [
       "612"
      ]
     },
     "execution_count": 14,
     "metadata": {},
     "output_type": "execute_result"
    }
   ],
   "source": [
    "len(all_books['id'])"
   ]
  },
  {
   "cell_type": "markdown",
   "metadata": {},
   "source": [
    "### Записть в файл"
   ]
  },
  {
   "cell_type": "markdown",
   "metadata": {},
   "source": [
    "Таблица писателей"
   ]
  },
  {
   "cell_type": "markdown",
   "metadata": {},
   "source": [
    "* id \n",
    "* name\n",
    "* middle\n",
    "* last1\n",
    "* last2\n",
    "* tag_main\n",
    "* tag_smal"
   ]
  },
  {
   "cell_type": "code",
   "execution_count": 31,
   "metadata": {},
   "outputs": [],
   "source": [
    "col_names = ['id', 'main_cat', 'add_cat', 'wiki_id', 'name',\n",
    "            'first0', 'first1', 'middle0', 'middle1', 'last0', 'last1']"
   ]
  },
  {
   "cell_type": "code",
   "execution_count": 32,
   "metadata": {},
   "outputs": [],
   "source": [
    "n_people = len(all_persons)\n",
    "d = {i:[0]*n_people for i in col_names}\n",
    "\n",
    "for index, data in enumerate(all_persons):\n",
    "    for col in data:\n",
    "        d[col][index] = data[col]"
   ]
  },
  {
   "cell_type": "code",
   "execution_count": 34,
   "metadata": {},
   "outputs": [],
   "source": [
    "df = pd.DataFrame(d)\n",
    "df.to_csv(dir_path.format('all_persons.tsv'), sep='\\t')"
   ]
  },
  {
   "cell_type": "markdown",
   "metadata": {},
   "source": [
    "Таблица книг"
   ]
  },
  {
   "cell_type": "markdown",
   "metadata": {},
   "source": [
    "* id\n",
    "* author_id\n",
    "* book_name\n",
    "* book_link"
   ]
  },
  {
   "cell_type": "code",
   "execution_count": 35,
   "metadata": {},
   "outputs": [],
   "source": [
    "df = pd.DataFrame(all_books)\n",
    "df.to_csv(dir_path.format('all_books.tsv'), sep='\\t')"
   ]
  },
  {
   "cell_type": "code",
   "execution_count": 36,
   "metadata": {},
   "outputs": [
    {
     "data": {
      "text/html": [
       "<div>\n",
       "<style scoped>\n",
       "    .dataframe tbody tr th:only-of-type {\n",
       "        vertical-align: middle;\n",
       "    }\n",
       "\n",
       "    .dataframe tbody tr th {\n",
       "        vertical-align: top;\n",
       "    }\n",
       "\n",
       "    .dataframe thead th {\n",
       "        text-align: right;\n",
       "    }\n",
       "</style>\n",
       "<table border=\"1\" class=\"dataframe\">\n",
       "  <thead>\n",
       "    <tr style=\"text-align: right;\">\n",
       "      <th></th>\n",
       "      <th>id</th>\n",
       "      <th>author_id</th>\n",
       "      <th>book_name</th>\n",
       "      <th>book_url</th>\n",
       "    </tr>\n",
       "  </thead>\n",
       "  <tbody>\n",
       "    <tr>\n",
       "      <th>0</th>\n",
       "      <td>0</td>\n",
       "      <td>1</td>\n",
       "      <td>Помню, я ещё младшенька была…</td>\n",
       "      <td>/wiki/%D0%9F%D0%BE%D0%BC%D0%BD%D1%8E,_%D1%8F_%...</td>\n",
       "    </tr>\n",
       "    <tr>\n",
       "      <th>1</th>\n",
       "      <td>1</td>\n",
       "      <td>1</td>\n",
       "      <td>Ай вы, ветры, ветры буйные…</td>\n",
       "      <td>/wiki/%D0%90%D0%B9_%D0%B2%D1%8B,_%D0%B2%D0%B5%...</td>\n",
       "    </tr>\n",
       "    <tr>\n",
       "      <th>2</th>\n",
       "      <td>2</td>\n",
       "      <td>2</td>\n",
       "      <td>Ермак готовится к походу на Сибирь</td>\n",
       "      <td>/wiki/%D0%95%D1%80%D0%BC%D0%B0%D0%BA_%D0%B3%D0...</td>\n",
       "    </tr>\n",
       "    <tr>\n",
       "      <th>3</th>\n",
       "      <td>3</td>\n",
       "      <td>2</td>\n",
       "      <td>Пугачёв в темнице</td>\n",
       "      <td>/wiki/%D0%9F%D1%83%D0%B3%D0%B0%D1%87%D1%91%D0%...</td>\n",
       "    </tr>\n",
       "    <tr>\n",
       "      <th>4</th>\n",
       "      <td>4</td>\n",
       "      <td>3</td>\n",
       "      <td>Два Ивана-солдатских сына</td>\n",
       "      <td>/wiki/%D0%9D%D0%B0%D1%80%D0%BE%D0%B4%D0%BD%D1%...</td>\n",
       "    </tr>\n",
       "    <tr>\n",
       "      <th>...</th>\n",
       "      <td>...</td>\n",
       "      <td>...</td>\n",
       "      <td>...</td>\n",
       "      <td>...</td>\n",
       "    </tr>\n",
       "    <tr>\n",
       "      <th>606</th>\n",
       "      <td>606</td>\n",
       "      <td>171</td>\n",
       "      <td>Стандарт основного общего образования по литер...</td>\n",
       "      <td>None</td>\n",
       "    </tr>\n",
       "    <tr>\n",
       "      <th>607</th>\n",
       "      <td>607</td>\n",
       "      <td>171</td>\n",
       "      <td>Стандарт основного общего образования по литер...</td>\n",
       "      <td>None</td>\n",
       "    </tr>\n",
       "    <tr>\n",
       "      <th>608</th>\n",
       "      <td>608</td>\n",
       "      <td>171</td>\n",
       "      <td>Базовый уровень</td>\n",
       "      <td>None</td>\n",
       "    </tr>\n",
       "    <tr>\n",
       "      <th>609</th>\n",
       "      <td>609</td>\n",
       "      <td>171</td>\n",
       "      <td>Базовый уровень</td>\n",
       "      <td>None</td>\n",
       "    </tr>\n",
       "    <tr>\n",
       "      <th>610</th>\n",
       "      <td>610</td>\n",
       "      <td>171</td>\n",
       "      <td>Профильный уровень</td>\n",
       "      <td>None</td>\n",
       "    </tr>\n",
       "  </tbody>\n",
       "</table>\n",
       "<p>611 rows × 4 columns</p>\n",
       "</div>"
      ],
      "text/plain": [
       "      id  author_id                                          book_name  \\\n",
       "0      0          1                      Помню, я ещё младшенька была…   \n",
       "1      1          1                        Ай вы, ветры, ветры буйные…   \n",
       "2      2          2                 Ермак готовится к походу на Сибирь   \n",
       "3      3          2                                  Пугачёв в темнице   \n",
       "4      4          3                          Два Ивана-солдатских сына   \n",
       "..   ...        ...                                                ...   \n",
       "606  606        171  Стандарт основного общего образования по литер...   \n",
       "607  607        171  Стандарт основного общего образования по литер...   \n",
       "608  608        171                                    Базовый уровень   \n",
       "609  609        171                                    Базовый уровень   \n",
       "610  610        171                                 Профильный уровень   \n",
       "\n",
       "                                              book_url  \n",
       "0    /wiki/%D0%9F%D0%BE%D0%BC%D0%BD%D1%8E,_%D1%8F_%...  \n",
       "1    /wiki/%D0%90%D0%B9_%D0%B2%D1%8B,_%D0%B2%D0%B5%...  \n",
       "2    /wiki/%D0%95%D1%80%D0%BC%D0%B0%D0%BA_%D0%B3%D0...  \n",
       "3    /wiki/%D0%9F%D1%83%D0%B3%D0%B0%D1%87%D1%91%D0%...  \n",
       "4    /wiki/%D0%9D%D0%B0%D1%80%D0%BE%D0%B4%D0%BD%D1%...  \n",
       "..                                                 ...  \n",
       "606                                               None  \n",
       "607                                               None  \n",
       "608                                               None  \n",
       "609                                               None  \n",
       "610                                               None  \n",
       "\n",
       "[611 rows x 4 columns]"
      ]
     },
     "execution_count": 36,
     "metadata": {},
     "output_type": "execute_result"
    }
   ],
   "source": [
    "df"
   ]
  },
  {
   "cell_type": "markdown",
   "metadata": {},
   "source": [
    "# Список по классам"
   ]
  },
  {
   "cell_type": "markdown",
   "metadata": {},
   "source": [
    "Данные: http://lickey3.narod.ru/spisok_reed.pdf"
   ]
  },
  {
   "cell_type": "markdown",
   "metadata": {},
   "source": [
    "Открытие данных об авторах и произведениях"
   ]
  },
  {
   "cell_type": "code",
   "execution_count": 52,
   "metadata": {},
   "outputs": [],
   "source": [
    "person_data = pd.read_csv(dir_path.format('all_persons.tsv'), sep='\\t')\n",
    "book_data = pd.read_csv(dir_path.format('all_books.tsv'), sep='\\t')"
   ]
  },
  {
   "cell_type": "code",
   "execution_count": 59,
   "metadata": {},
   "outputs": [],
   "source": [
    "book_data = book_data.drop(columns=['Unnamed: 0'])"
   ]
  },
  {
   "cell_type": "code",
   "execution_count": 589,
   "metadata": {},
   "outputs": [
    {
     "data": {
      "text/html": [
       "<div>\n",
       "<style scoped>\n",
       "    .dataframe tbody tr th:only-of-type {\n",
       "        vertical-align: middle;\n",
       "    }\n",
       "\n",
       "    .dataframe tbody tr th {\n",
       "        vertical-align: top;\n",
       "    }\n",
       "\n",
       "    .dataframe thead th {\n",
       "        text-align: right;\n",
       "    }\n",
       "</style>\n",
       "<table border=\"1\" class=\"dataframe\">\n",
       "  <thead>\n",
       "    <tr style=\"text-align: right;\">\n",
       "      <th></th>\n",
       "      <th>Unnamed: 0</th>\n",
       "      <th>id</th>\n",
       "      <th>main_cat</th>\n",
       "      <th>add_cat</th>\n",
       "      <th>wiki_id</th>\n",
       "      <th>name</th>\n",
       "      <th>first0</th>\n",
       "      <th>first1</th>\n",
       "      <th>middle0</th>\n",
       "      <th>middle1</th>\n",
       "      <th>last0</th>\n",
       "      <th>last1</th>\n",
       "    </tr>\n",
       "  </thead>\n",
       "  <tbody>\n",
       "    <tr>\n",
       "      <th>0</th>\n",
       "      <td>0</td>\n",
       "      <td>0</td>\n",
       "      <td>Русская литература</td>\n",
       "      <td>Фольклор</td>\n",
       "      <td>NaN</td>\n",
       "      <td>Устное народное творчество</td>\n",
       "      <td>0</td>\n",
       "      <td>0</td>\n",
       "      <td>0</td>\n",
       "      <td>0</td>\n",
       "      <td>0</td>\n",
       "      <td>0</td>\n",
       "    </tr>\n",
       "    <tr>\n",
       "      <th>1</th>\n",
       "      <td>1</td>\n",
       "      <td>1</td>\n",
       "      <td>Русская литература</td>\n",
       "      <td>Фольклор</td>\n",
       "      <td>NaN</td>\n",
       "      <td>Исторические песни</td>\n",
       "      <td>0</td>\n",
       "      <td>0</td>\n",
       "      <td>0</td>\n",
       "      <td>0</td>\n",
       "      <td>0</td>\n",
       "      <td>0</td>\n",
       "    </tr>\n",
       "  </tbody>\n",
       "</table>\n",
       "</div>"
      ],
      "text/plain": [
       "   Unnamed: 0  id            main_cat   add_cat wiki_id  \\\n",
       "0           0   0  Русская литература  Фольклор     NaN   \n",
       "1           1   1  Русская литература  Фольклор     NaN   \n",
       "\n",
       "                         name first0 first1 middle0 middle1 last0 last1  \n",
       "0  Устное народное творчество      0      0       0       0     0     0  \n",
       "1          Исторические песни      0      0       0       0     0     0  "
      ]
     },
     "execution_count": 589,
     "metadata": {},
     "output_type": "execute_result"
    }
   ],
   "source": [
    "person_data.head(2)"
   ]
  },
  {
   "cell_type": "code",
   "execution_count": 590,
   "metadata": {},
   "outputs": [
    {
     "data": {
      "text/html": [
       "<div>\n",
       "<style scoped>\n",
       "    .dataframe tbody tr th:only-of-type {\n",
       "        vertical-align: middle;\n",
       "    }\n",
       "\n",
       "    .dataframe tbody tr th {\n",
       "        vertical-align: top;\n",
       "    }\n",
       "\n",
       "    .dataframe thead th {\n",
       "        text-align: right;\n",
       "    }\n",
       "</style>\n",
       "<table border=\"1\" class=\"dataframe\">\n",
       "  <thead>\n",
       "    <tr style=\"text-align: right;\">\n",
       "      <th></th>\n",
       "      <th>id</th>\n",
       "      <th>author_id</th>\n",
       "      <th>book_name</th>\n",
       "      <th>book_url</th>\n",
       "    </tr>\n",
       "  </thead>\n",
       "  <tbody>\n",
       "    <tr>\n",
       "      <th>0</th>\n",
       "      <td>0</td>\n",
       "      <td>0</td>\n",
       "      <td>Помню, я ещё младшенька была…</td>\n",
       "      <td>/wiki/%D0%9F%D0%BE%D0%BC%D0%BD%D1%8E,_%D1%8F_%...</td>\n",
       "    </tr>\n",
       "    <tr>\n",
       "      <th>1</th>\n",
       "      <td>1</td>\n",
       "      <td>0</td>\n",
       "      <td>Ай вы, ветры, ветры буйные…</td>\n",
       "      <td>/wiki/%D0%90%D0%B9_%D0%B2%D1%8B,_%D0%B2%D0%B5%...</td>\n",
       "    </tr>\n",
       "  </tbody>\n",
       "</table>\n",
       "</div>"
      ],
      "text/plain": [
       "   id  author_id                      book_name  \\\n",
       "0   0          0  Помню, я ещё младшенька была…   \n",
       "1   1          0    Ай вы, ветры, ветры буйные…   \n",
       "\n",
       "                                            book_url  \n",
       "0  /wiki/%D0%9F%D0%BE%D0%BC%D0%BD%D1%8E,_%D1%8F_%...  \n",
       "1  /wiki/%D0%90%D0%B9_%D0%B2%D1%8B,_%D0%B2%D0%B5%...  "
      ]
     },
     "execution_count": 590,
     "metadata": {},
     "output_type": "execute_result"
    }
   ],
   "source": [
    "book_data.head(2)"
   ]
  },
  {
   "cell_type": "markdown",
   "metadata": {},
   "source": [
    "Список по классам"
   ]
  },
  {
   "cell_type": "code",
   "execution_count": 41,
   "metadata": {},
   "outputs": [],
   "source": [
    "with open('/Users/Stoneberry/Desktop/школьный архив/spisok_reed.txt', 'r', encoding='utf-8') as f:\n",
    "    array = f.read()\n",
    "    literature = array.split('\\n\\n')"
   ]
  },
  {
   "cell_type": "code",
   "execution_count": 62,
   "metadata": {},
   "outputs": [],
   "source": [
    "year_list = {}\n",
    "\n",
    "for cat in literature:\n",
    "    res = cat.split('\\n')\n",
    "    year_list[res[0]] = res[1:]"
   ]
  },
  {
   "cell_type": "markdown",
   "metadata": {},
   "source": [
    "### Сопоставление данных"
   ]
  },
  {
   "cell_type": "code",
   "execution_count": 44,
   "metadata": {},
   "outputs": [],
   "source": [
    "def make_replacements(line, names, repl):\n",
    "    \"\"\"\n",
    "    Convert names to one format\n",
    "    \"\"\"\n",
    "    for name in names:\n",
    "        name2 = name\n",
    "        for rep in repl:\n",
    "            name2 = re.sub(rep, repl[rep], name2)\n",
    "        line = re.sub(name, name2, line)\n",
    "    return line"
   ]
  },
  {
   "cell_type": "code",
   "execution_count": 63,
   "metadata": {},
   "outputs": [],
   "source": [
    "name_pattern1 = '(?:[А-Я]\\. ?)?-?[А-Я]\\. ?[А-Я]\\w+?\\\\b'\n",
    "name_pattern1 = re.compile(name_pattern1)\n",
    "repl1 = {'-': '', ' ': '_'}\n",
    "\n",
    "name_pattern2 = '[А-Я]\\w+? (?:[А-Я]\\. )?-?[А-Я]\\.'\n",
    "name_pattern2 = re.compile(name_pattern2)\n",
    "repl2 = {'-': '', '\\. ': '.'}"
   ]
  },
  {
   "cell_type": "markdown",
   "metadata": {},
   "source": [
    "Приведение имен авторов к одному формату"
   ]
  },
  {
   "cell_type": "code",
   "execution_count": 64,
   "metadata": {},
   "outputs": [],
   "source": [
    "for class_ in year_list:\n",
    "    for index, line in enumerate(d[class_]):\n",
    "        names = re.findall(name_pattern2, line)\n",
    "        if names:\n",
    "            for name1 in names:\n",
    "                name2 = name1.split(' ')\n",
    "                name2 = name2[1:] + name2[:1]\n",
    "                name2 = ''.join(name2)\n",
    "                line = re.sub(name1, name2, line)\n",
    "            year_list[class_][index] = line\n",
    "        else:\n",
    "            names = re.findall(name_pattern1, line)\n",
    "            if names:\n",
    "                line = make_replacements(line, names, repl2)\n",
    "                year_list[class_][index] = line"
   ]
  },
  {
   "cell_type": "markdown",
   "metadata": {},
   "source": [
    "Сопоставление данных"
   ]
  },
  {
   "cell_type": "code",
   "execution_count": 65,
   "metadata": {},
   "outputs": [],
   "source": [
    "class_n = [None for i in range(book_data.shape[0])]"
   ]
  },
  {
   "cell_type": "code",
   "execution_count": 66,
   "metadata": {},
   "outputs": [],
   "source": [
    "for class_ in year_list:\n",
    "    for index, line in enumerate(year_list[class_]):\n",
    "\n",
    "        if ':' in line: sent = line.split(':')\n",
    "        else: sent = line.split(' ', 1)\n",
    "        \n",
    "        name = sent[0]\n",
    "        books = sent[1]\n",
    "        in_data = False\n",
    "        \n",
    "        names = preproc(name).split(',')\n",
    "        for name in names:\n",
    "            if '.' in name:\n",
    "                name = [i for i in name.split('.') if i != '']\n",
    "                for field in ['first1', 'last0', 'last1', 'name']:\n",
    "                    res = person_data[person_data[field] == name[-1]]\n",
    "                    if not res.empty and len(res.index) == 1:\n",
    "                        in_data = res['id'].values[0]\n",
    "        \n",
    "        if re.findall('\\.|\"|,', books) != []:\n",
    "\n",
    "            if '\"' in books: books = re.findall('\"(.*?)\"', books)\n",
    "            elif ',' in books:  books = books.split(',')\n",
    "            elif '.' in books:  books = books.split('.')\n",
    "            \n",
    "            for book in books:\n",
    "                book = preproc_book(book)\n",
    "                if book != '':\n",
    "                    res = book_data[book_data['book_name'] == book]\n",
    "                    if not res.empty and len(res.index) == 1:\n",
    "                        class_n[res.index[0]] = class_\n",
    "                    elif res.empty and in_data and len(book) > 1:\n",
    "                        bk_id = book_data.shape[0]\n",
    "                        class_n.append(class_)\n",
    "                        book_data.loc[bk_id] = [bk_id, in_data, book, None]\n"
   ]
  },
  {
   "cell_type": "code",
   "execution_count": 67,
   "metadata": {},
   "outputs": [],
   "source": [
    "book_data['grade'] = class_n"
   ]
  },
  {
   "cell_type": "code",
   "execution_count": 68,
   "metadata": {},
   "outputs": [
    {
     "data": {
      "text/html": [
       "<div>\n",
       "<style scoped>\n",
       "    .dataframe tbody tr th:only-of-type {\n",
       "        vertical-align: middle;\n",
       "    }\n",
       "\n",
       "    .dataframe tbody tr th {\n",
       "        vertical-align: top;\n",
       "    }\n",
       "\n",
       "    .dataframe thead th {\n",
       "        text-align: right;\n",
       "    }\n",
       "</style>\n",
       "<table border=\"1\" class=\"dataframe\">\n",
       "  <thead>\n",
       "    <tr style=\"text-align: right;\">\n",
       "      <th></th>\n",
       "      <th>id</th>\n",
       "      <th>author_id</th>\n",
       "      <th>book_name</th>\n",
       "      <th>book_url</th>\n",
       "      <th>grade</th>\n",
       "    </tr>\n",
       "  </thead>\n",
       "  <tbody>\n",
       "    <tr>\n",
       "      <th>0</th>\n",
       "      <td>0</td>\n",
       "      <td>1</td>\n",
       "      <td>Помню, я ещё младшенька была…</td>\n",
       "      <td>/wiki/%D0%9F%D0%BE%D0%BC%D0%BD%D1%8E,_%D1%8F_%...</td>\n",
       "      <td>None</td>\n",
       "    </tr>\n",
       "    <tr>\n",
       "      <th>1</th>\n",
       "      <td>1</td>\n",
       "      <td>1</td>\n",
       "      <td>Ай вы, ветры, ветры буйные…</td>\n",
       "      <td>/wiki/%D0%90%D0%B9_%D0%B2%D1%8B,_%D0%B2%D0%B5%...</td>\n",
       "      <td>None</td>\n",
       "    </tr>\n",
       "    <tr>\n",
       "      <th>2</th>\n",
       "      <td>2</td>\n",
       "      <td>2</td>\n",
       "      <td>Ермак готовится к походу на Сибирь</td>\n",
       "      <td>/wiki/%D0%95%D1%80%D0%BC%D0%B0%D0%BA_%D0%B3%D0...</td>\n",
       "      <td>None</td>\n",
       "    </tr>\n",
       "    <tr>\n",
       "      <th>3</th>\n",
       "      <td>3</td>\n",
       "      <td>2</td>\n",
       "      <td>Пугачёв в темнице</td>\n",
       "      <td>/wiki/%D0%9F%D1%83%D0%B3%D0%B0%D1%87%D1%91%D0%...</td>\n",
       "      <td>None</td>\n",
       "    </tr>\n",
       "    <tr>\n",
       "      <th>4</th>\n",
       "      <td>4</td>\n",
       "      <td>3</td>\n",
       "      <td>Два Ивана-солдатских сына</td>\n",
       "      <td>/wiki/%D0%9D%D0%B0%D1%80%D0%BE%D0%B4%D0%BD%D1%...</td>\n",
       "      <td>None</td>\n",
       "    </tr>\n",
       "  </tbody>\n",
       "</table>\n",
       "</div>"
      ],
      "text/plain": [
       "   id  author_id                           book_name  \\\n",
       "0   0          1       Помню, я ещё младшенька была…   \n",
       "1   1          1         Ай вы, ветры, ветры буйные…   \n",
       "2   2          2  Ермак готовится к походу на Сибирь   \n",
       "3   3          2                   Пугачёв в темнице   \n",
       "4   4          3           Два Ивана-солдатских сына   \n",
       "\n",
       "                                            book_url grade  \n",
       "0  /wiki/%D0%9F%D0%BE%D0%BC%D0%BD%D1%8E,_%D1%8F_%...  None  \n",
       "1  /wiki/%D0%90%D0%B9_%D0%B2%D1%8B,_%D0%B2%D0%B5%...  None  \n",
       "2  /wiki/%D0%95%D1%80%D0%BC%D0%B0%D0%BA_%D0%B3%D0...  None  \n",
       "3  /wiki/%D0%9F%D1%83%D0%B3%D0%B0%D1%87%D1%91%D0%...  None  \n",
       "4  /wiki/%D0%9D%D0%B0%D1%80%D0%BE%D0%B4%D0%BD%D1%...  None  "
      ]
     },
     "execution_count": 68,
     "metadata": {},
     "output_type": "execute_result"
    }
   ],
   "source": [
    "book_data.head()"
   ]
  },
  {
   "cell_type": "code",
   "execution_count": 600,
   "metadata": {},
   "outputs": [],
   "source": [
    "book_data.to_csv(dir_path.format('all_books3.tsv'), sep='\\t', index=False)"
   ]
  },
  {
   "cell_type": "code",
   "execution_count": null,
   "metadata": {},
   "outputs": [],
   "source": []
  }
 ],
 "metadata": {
  "kernelspec": {
   "display_name": "Python 3",
   "language": "python",
   "name": "python3"
  },
  "language_info": {
   "codemirror_mode": {
    "name": "ipython",
    "version": 3
   },
   "file_extension": ".py",
   "mimetype": "text/x-python",
   "name": "python",
   "nbconvert_exporter": "python",
   "pygments_lexer": "ipython3",
   "version": "3.6.5"
  }
 },
 "nbformat": 4,
 "nbformat_minor": 2
}
