{
  "nbformat": 4,
  "nbformat_minor": 0,
  "metadata": {
    "colab": {
      "name": "Wiki_data_person_parse.ipynb",
      "provenance": [],
      "collapsed_sections": []
    },
    "kernelspec": {
      "name": "python3",
      "display_name": "Python 3"
    }
  },
  "cells": [
    {
      "cell_type": "code",
      "metadata": {
        "id": "u4OxP16rqaRV",
        "colab_type": "code",
        "colab": {}
      },
      "source": [
        "!pip3 install wptools"
      ],
      "execution_count": null,
      "outputs": []
    },
    {
      "cell_type": "code",
      "metadata": {
        "id": "GwCTjIvBpuRd",
        "colab_type": "code",
        "colab": {}
      },
      "source": [
        "from google.colab import files\n",
        "from google.colab import drive\n",
        "import pandas as pd\n",
        "import wptools\n",
        "import json\n",
        "import copy"
      ],
      "execution_count": null,
      "outputs": []
    },
    {
      "cell_type": "markdown",
      "metadata": {
        "id": "5xKgDHFbuqox",
        "colab_type": "text"
      },
      "source": [
        "# Загрузка данных"
      ]
    },
    {
      "cell_type": "code",
      "metadata": {
        "id": "rIAgGtuqqx0G",
        "colab_type": "code",
        "colab": {
          "base_uri": "https://localhost:8080/",
          "height": 34
        },
        "outputId": "d545d526-0afd-4c76-962a-840cf1f79458"
      },
      "source": [
        "drive.mount('/content/drive', force_remount=True)\n",
        "DATA_PATH = \"/content/drive/My Drive/Files\"\n",
        "data = pd.read_csv(DATA_PATH+'/all_persons.tsv', delimiter='\\t')"
      ],
      "execution_count": null,
      "outputs": [
        {
          "output_type": "stream",
          "text": [
            "Mounted at /content/drive\n"
          ],
          "name": "stdout"
        }
      ]
    },
    {
      "cell_type": "markdown",
      "metadata": {
        "id": "yPpfywoz1BZP",
        "colab_type": "text"
      },
      "source": [
        "# Скачиваем данные"
      ]
    },
    {
      "cell_type": "code",
      "metadata": {
        "id": "LFl2HU6bxcrZ",
        "colab_type": "code",
        "colab": {}
      },
      "source": [
        "def get_info(wiki_id, labels):\n",
        "\n",
        "    page = wptools.page(wikibase=wiki_id)\n",
        "    page.get_wikidata()\n",
        "\n",
        "    info = page.data\n",
        "    res = info['wikidata']\n",
        "\n",
        "    for label in labels:\n",
        "        if label in info:\n",
        "            if label == 'image': ans = info[label][0]['url']\n",
        "            else: ans = info[label]\n",
        "            res[label] = ans\n",
        "    \n",
        "    return res"
      ],
      "execution_count": null,
      "outputs": []
    },
    {
      "cell_type": "code",
      "metadata": {
        "id": "uyMYSc1b0By7",
        "colab_type": "code",
        "colab": {}
      },
      "source": [
        "labels = ['what', 'title', 'label', 'image']\n",
        "data = data.dropna(subset=['wiki_id'])\n",
        "author_info = {}\n",
        "\n",
        "for index in data.index:\n",
        "    \n",
        "    author_id = data['id'][index]\n",
        "    wiki_id = data['wiki_id'][index]\n",
        "    info = get_info(wiki_id, labels)\n",
        "    author_info[author_id] = info"
      ],
      "execution_count": null,
      "outputs": []
    },
    {
      "cell_type": "code",
      "metadata": {
        "id": "al7ici133Y8d",
        "colab_type": "code",
        "colab": {}
      },
      "source": [
        "res = {str(index): author_info[index] for index in author_info}"
      ],
      "execution_count": null,
      "outputs": []
    },
    {
      "cell_type": "code",
      "metadata": {
        "id": "IKxE66NW3Bwu",
        "colab_type": "code",
        "colab": {}
      },
      "source": [
        "with open('author_information.json', 'w') as f:   \n",
        "    json.dump(res, f)"
      ],
      "execution_count": null,
      "outputs": []
    },
    {
      "cell_type": "code",
      "metadata": {
        "id": "JUzf2rMr2W97",
        "colab_type": "code",
        "colab": {}
      },
      "source": [
        ""
      ],
      "execution_count": null,
      "outputs": []
    }
  ]
}